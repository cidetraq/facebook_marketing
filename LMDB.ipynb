{
 "cells": [
  {
   "cell_type": "code",
   "execution_count": 1,
   "metadata": {},
   "outputs": [
    {
     "name": "stderr",
     "output_type": "stream",
     "text": [
      "C:\\Users\\Nicholas\\AppData\\Local\\Programs\\Python\\Python36\\lib\\site-packages\\gensim\\utils.py:1209: UserWarning: detected Windows; aliasing chunkize to chunkize_serial\n",
      "  warnings.warn(\"detected Windows; aliasing chunkize to chunkize_serial\")\n"
     ]
    }
   ],
   "source": [
    "from lmdb_embeddings.reader import LmdbEmbeddingsReader\n",
    "from lmdb_embeddings.exceptions import MissingWordError\n",
    "from gensim.models.keyedvectors import KeyedVectors\n",
    "from lmdb_embeddings.writer import LmdbEmbeddingsWriter\n",
    "import os\n",
    "import lmdb"
   ]
  },
  {
   "cell_type": "code",
   "execution_count": 55,
   "metadata": {},
   "outputs": [],
   "source": [
    "data=lmdb.open('data')\n",
    "data.close()"
   ]
  },
  {
   "cell_type": "code",
   "execution_count": 56,
   "metadata": {},
   "outputs": [
    {
     "name": "stdout",
     "output_type": "stream",
     "text": [
      "D:\\Google Drive\\Programming\\python\\facebook market analyzer\\data\n"
     ]
    }
   ],
   "source": [
    "print(os.getcwd())\n",
    "embeddings = LmdbEmbeddingsReader('data')\n",
    "\n",
    "try:\n",
    "  vector = embeddings.get_word_vector('google')\n",
    "except MissingWordError:\n",
    "  # 'google' is not in the database.\n",
    "  pass"
   ]
  },
  {
   "cell_type": "code",
   "execution_count": 60,
   "metadata": {},
   "outputs": [],
   "source": [
    "os.chdir('D:\\\\Google Drive\\\\Programming\\\\python\\\\facebook market analyzer\\\\')"
   ]
  },
  {
   "cell_type": "code",
   "execution_count": 61,
   "metadata": {},
   "outputs": [
    {
     "data": {
      "text/plain": [
       "'D:\\\\Google Drive\\\\Programming\\\\python\\\\facebook market analyzer'"
      ]
     },
     "execution_count": 61,
     "metadata": {},
     "output_type": "execute_result"
    }
   ],
   "source": [
    "os.getcwd()"
   ]
  },
  {
   "cell_type": "code",
   "execution_count": 57,
   "metadata": {},
   "outputs": [],
   "source": [
    "data.close()"
   ]
  },
  {
   "cell_type": "code",
   "execution_count": 2,
   "metadata": {},
   "outputs": [],
   "source": [
    "OUTPUT_DATABASE_FOLDER='data\\lmdb_databases'"
   ]
  },
  {
   "cell_type": "code",
   "execution_count": 5,
   "metadata": {},
   "outputs": [],
   "source": [
    "gensim_model = KeyedVectors.load_word2vec_format('data/wiki-news-300d-1M.vec')"
   ]
  },
  {
   "cell_type": "code",
   "execution_count": 6,
   "metadata": {},
   "outputs": [],
   "source": [
    "def iter_embeddings():\n",
    "    for word in gensim_model.vocab.keys():\n",
    "        yield word, gensim_model[word]"
   ]
  },
  {
   "cell_type": "code",
   "execution_count": 7,
   "metadata": {},
   "outputs": [
    {
     "name": "stdout",
     "output_type": "stream",
     "text": [
      "Writing vectors to a LMDB database...\n"
     ]
    }
   ],
   "source": [
    "print('Writing vectors to a LMDB database...')\n",
    "writer = LmdbEmbeddingsWriter(\n",
    "    iter_embeddings()\n",
    ").write(OUTPUT_DATABASE_FOLDER)"
   ]
  }
 ],
 "metadata": {
  "kernelspec": {
   "display_name": "Python 3",
   "language": "python",
   "name": "python3"
  },
  "language_info": {
   "codemirror_mode": {
    "name": "ipython",
    "version": 3
   },
   "file_extension": ".py",
   "mimetype": "text/x-python",
   "name": "python",
   "nbconvert_exporter": "python",
   "pygments_lexer": "ipython3",
   "version": "3.6.3"
  }
 },
 "nbformat": 4,
 "nbformat_minor": 2
}
