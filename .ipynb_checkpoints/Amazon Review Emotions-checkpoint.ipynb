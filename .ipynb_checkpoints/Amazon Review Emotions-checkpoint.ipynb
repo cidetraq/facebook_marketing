{
 "cells": [
  {
   "cell_type": "code",
   "execution_count": 5,
   "metadata": {},
   "outputs": [],
   "source": [
    "import numpy as np\n",
    "import matplotlib.pyplot as plt\n",
    "import pandas as pd\n",
    "import nltk\n",
    "import nltk.classify.util\n",
    "from nltk.classify import NaiveBayesClassifier\n",
    "from nltk.corpus import names"
   ]
  },
  {
   "cell_type": "markdown",
   "metadata": {},
   "source": [
    "Could create binary classifier by having 3, 4, 5 star ratings as positive ratings and 1,2 star ratings as negative ratings. Better to do 5-type classifier probably. "
   ]
  },
  {
   "cell_type": "markdown",
   "metadata": {},
   "source": [
    "https://stackoverflow.com/questions/22216076/unicodedecodeerror-utf8-codec-cant-decode-byte-0xa5-in-position-0-invalid-s"
   ]
  },
  {
   "cell_type": "code",
   "execution_count": 10,
   "metadata": {},
   "outputs": [],
   "source": [
    "dataset=pd.read_csv('amazon_reviews_utf.csv')"
   ]
  },
  {
   "cell_type": "code",
   "execution_count": 5,
   "metadata": {
    "collapsed": true
   },
   "outputs": [
    {
     "data": {
      "text/html": [
       "<div>\n",
       "<style scoped>\n",
       "    .dataframe tbody tr th:only-of-type {\n",
       "        vertical-align: middle;\n",
       "    }\n",
       "\n",
       "    .dataframe tbody tr th {\n",
       "        vertical-align: top;\n",
       "    }\n",
       "\n",
       "    .dataframe thead th {\n",
       "        text-align: right;\n",
       "    }\n",
       "</style>\n",
       "<table border=\"1\" class=\"dataframe\">\n",
       "  <thead>\n",
       "    <tr style=\"text-align: right;\">\n",
       "      <th></th>\n",
       "      <th>Name</th>\n",
       "      <th>Star Rating</th>\n",
       "      <th>Verifed Review</th>\n",
       "      <th>Helpful Vote Count</th>\n",
       "      <th>Date</th>\n",
       "      <th>Author</th>\n",
       "      <th>Author Link</th>\n",
       "      <th>Review Link</th>\n",
       "      <th>Review Text</th>\n",
       "    </tr>\n",
       "  </thead>\n",
       "  <tbody>\n",
       "    <tr>\n",
       "      <th>0</th>\n",
       "      <td>So far, so good (and dry)</td>\n",
       "      <td>5</td>\n",
       "      <td>YES</td>\n",
       "      <td>25</td>\n",
       "      <td>November 9, 2016</td>\n",
       "      <td>S. R. Southard</td>\n",
       "      <td>https://amazon.com//gp/profile/amzn1.account.A...</td>\n",
       "      <td>https://amazon.com//gp/customer-reviews/R3V8GI...</td>\n",
       "      <td>I had my first opportunity to use the umbrella...</td>\n",
       "    </tr>\n",
       "    <tr>\n",
       "      <th>1</th>\n",
       "      <td>Not really a lifetime warranty...</td>\n",
       "      <td>2</td>\n",
       "      <td>YES</td>\n",
       "      <td>On</td>\n",
       "      <td>July 10, 2018</td>\n",
       "      <td>Rico</td>\n",
       "      <td>https://amazon.com//gp/profile/amzn1.account.A...</td>\n",
       "      <td>https://amazon.com//gp/customer-reviews/R1ZA3B...</td>\n",
       "      <td>I bought this umbrella a few months ago and un...</td>\n",
       "    </tr>\n",
       "    <tr>\n",
       "      <th>2</th>\n",
       "      <td>\"THIS IS THE ONLY UMBRELLA YOU SHOULD EVER PUR...</td>\n",
       "      <td>5</td>\n",
       "      <td>YES</td>\n",
       "      <td>On</td>\n",
       "      <td>January 22, 2018</td>\n",
       "      <td>On The Fly</td>\n",
       "      <td>https://amazon.com//gp/profile/amzn1.account.A...</td>\n",
       "      <td>https://amazon.com//gp/customer-reviews/RG5V0S...</td>\n",
       "      <td>First of all: I have no financial interest in ...</td>\n",
       "    </tr>\n",
       "    <tr>\n",
       "      <th>3</th>\n",
       "      <td>Most good quality umbrellas can't stand up to ...</td>\n",
       "      <td>3</td>\n",
       "      <td>YES</td>\n",
       "      <td>2</td>\n",
       "      <td>April 25, 2018</td>\n",
       "      <td>Linann</td>\n",
       "      <td>https://amazon.com//gp/profile/amzn1.account.A...</td>\n",
       "      <td>https://amazon.com//gp/customer-reviews/R2EYVB...</td>\n",
       "      <td>I work in New Haven CT, and in the fall, and w...</td>\n",
       "    </tr>\n",
       "    <tr>\n",
       "      <th>4</th>\n",
       "      <td>Decent umbrella compromised by poor-quality ri...</td>\n",
       "      <td>3</td>\n",
       "      <td>YES</td>\n",
       "      <td>3</td>\n",
       "      <td>October 15, 2017</td>\n",
       "      <td>Edward Ripley-Duggan</td>\n",
       "      <td>https://amazon.com//gp/profile/amzn1.account.A...</td>\n",
       "      <td>https://amazon.com//gp/customer-reviews/R1L9TU...</td>\n",
       "      <td>The umbrella appears to be robust; I used it r...</td>\n",
       "    </tr>\n",
       "    <tr>\n",
       "      <th>5</th>\n",
       "      <td>it is still like new. Great construction</td>\n",
       "      <td>4</td>\n",
       "      <td>YES</td>\n",
       "      <td>On</td>\n",
       "      <td>August 14, 2016</td>\n",
       "      <td>MC Oddslice</td>\n",
       "      <td>https://amazon.com//gp/profile/amzn1.account.A...</td>\n",
       "      <td>https://amazon.com//gp/customer-reviews/R2W29X...</td>\n",
       "      <td>Update: Too small! If there is wind, you will ...</td>\n",
       "    </tr>\n",
       "    <tr>\n",
       "      <th>6</th>\n",
       "      <td>For a tiny person</td>\n",
       "      <td>2</td>\n",
       "      <td>YES</td>\n",
       "      <td>On</td>\n",
       "      <td>May 25, 2018</td>\n",
       "      <td>AR</td>\n",
       "      <td>https://amazon.com//gp/profile/amzn1.account.A...</td>\n",
       "      <td>https://amazon.com//gp/customer-reviews/R3FPDT...</td>\n",
       "      <td>I was excited to try out this umbrella based o...</td>\n",
       "    </tr>\n",
       "    <tr>\n",
       "      <th>7</th>\n",
       "      <td>Decent, a bit pricey?</td>\n",
       "      <td>4</td>\n",
       "      <td>YES</td>\n",
       "      <td>2</td>\n",
       "      <td>September 2, 2017</td>\n",
       "      <td>Alex Wang</td>\n",
       "      <td>https://amazon.com//gp/profile/amzn1.account.A...</td>\n",
       "      <td>https://amazon.com//gp/customer-reviews/R12Q4A...</td>\n",
       "      <td>This umbrella is pretty good. never had a umbr...</td>\n",
       "    </tr>\n",
       "    <tr>\n",
       "      <th>8</th>\n",
       "      <td>Not consistent with reviews or description.</td>\n",
       "      <td>2</td>\n",
       "      <td>YES</td>\n",
       "      <td>3</td>\n",
       "      <td>June 20, 2017</td>\n",
       "      <td>Hannah</td>\n",
       "      <td>https://amazon.com//gp/profile/amzn1.account.A...</td>\n",
       "      <td>https://amazon.com//gp/customer-reviews/R1UX1K...</td>\n",
       "      <td>I must have received a bad item or something b...</td>\n",
       "    </tr>\n",
       "    <tr>\n",
       "      <th>9</th>\n",
       "      <td>Seems well-built and well-designed.</td>\n",
       "      <td>5</td>\n",
       "      <td>YES</td>\n",
       "      <td>0</td>\n",
       "      <td>January 26, 2018</td>\n",
       "      <td>Terende</td>\n",
       "      <td>https://amazon.com//gp/profile/amzn1.account.A...</td>\n",
       "      <td>https://amazon.com//gp/customer-reviews/R3C9IS...</td>\n",
       "      <td>I bought two of these for my and my spouse's u...</td>\n",
       "    </tr>\n",
       "    <tr>\n",
       "      <th>10</th>\n",
       "      <td>Good Quality but Nearly Useless - Umbrella for...</td>\n",
       "      <td>2</td>\n",
       "      <td>YES</td>\n",
       "      <td>0</td>\n",
       "      <td>July 3, 2018</td>\n",
       "      <td>Robert S. Blackie</td>\n",
       "      <td>https://amazon.com//gp/profile/amzn1.account.A...</td>\n",
       "      <td>https://amazon.com//gp/customer-reviews/R9Y91F...</td>\n",
       "      <td>I cannot argue with the fact that this umbrell...</td>\n",
       "    </tr>\n",
       "    <tr>\n",
       "      <th>11</th>\n",
       "      <td>... have to say this one is by far my favorite...</td>\n",
       "      <td>5</td>\n",
       "      <td>YES</td>\n",
       "      <td>0</td>\n",
       "      <td>February 27, 2018</td>\n",
       "      <td>IJ</td>\n",
       "      <td>https://amazon.com//gp/profile/amzn1.account.A...</td>\n",
       "      <td>https://amazon.com//gp/customer-reviews/R3TDZY...</td>\n",
       "      <td>I've owned at least 50 umbrellas (some bought ...</td>\n",
       "    </tr>\n",
       "    <tr>\n",
       "      <th>12</th>\n",
       "      <td>classy cute umbrella</td>\n",
       "      <td>5</td>\n",
       "      <td>YES</td>\n",
       "      <td>0</td>\n",
       "      <td>March 25, 2018</td>\n",
       "      <td>lawAbidingCitizen</td>\n",
       "      <td>https://amazon.com//gp/profile/amzn1.account.A...</td>\n",
       "      <td>https://amazon.com//gp/customer-reviews/R2PYPT...</td>\n",
       "      <td>I have benkii before(less1 year) but i lost it...</td>\n",
       "    </tr>\n",
       "    <tr>\n",
       "      <th>13</th>\n",
       "      <td>Well made product, excellent vendor</td>\n",
       "      <td>5</td>\n",
       "      <td>YES</td>\n",
       "      <td>0</td>\n",
       "      <td>April 7, 2018</td>\n",
       "      <td>sherm624</td>\n",
       "      <td>https://amazon.com//gp/profile/amzn1.account.A...</td>\n",
       "      <td>https://amazon.com//gp/customer-reviews/R2VU5A...</td>\n",
       "      <td>Change from 2 to 5 stars.  After a not-so-grea...</td>\n",
       "    </tr>\n",
       "    <tr>\n",
       "      <th>14</th>\n",
       "      <td>This one goes to 9...</td>\n",
       "      <td>5</td>\n",
       "      <td>YES</td>\n",
       "      <td>On</td>\n",
       "      <td>January 29, 2017</td>\n",
       "      <td>Mergatroid</td>\n",
       "      <td>https://amazon.com//gp/profile/amzn1.account.A...</td>\n",
       "      <td>https://amazon.com//gp/customer-reviews/R1C6RZ...</td>\n",
       "      <td>Nicely built. The metal shaft is black however...</td>\n",
       "    </tr>\n",
       "    <tr>\n",
       "      <th>15</th>\n",
       "      <td>support</td>\n",
       "      <td>4</td>\n",
       "      <td>YES</td>\n",
       "      <td>On</td>\n",
       "      <td>January 23, 2018</td>\n",
       "      <td>Robert J. Moser</td>\n",
       "      <td>https://amazon.com//gp/profile/amzn1.account.A...</td>\n",
       "      <td>https://amazon.com//gp/customer-reviews/R2IXZT...</td>\n",
       "      <td>I am a 67 year old banker, been banking for ov...</td>\n",
       "    </tr>\n",
       "    <tr>\n",
       "      <th>16</th>\n",
       "      <td>Excellent umbrella- would definitely recommend</td>\n",
       "      <td>5</td>\n",
       "      <td>YES</td>\n",
       "      <td>0</td>\n",
       "      <td>October 18, 2017</td>\n",
       "      <td>G Tan</td>\n",
       "      <td>https://amazon.com//gp/profile/amzn1.account.A...</td>\n",
       "      <td>https://amazon.com//gp/customer-reviews/R38B28...</td>\n",
       "      <td>I like bullet points, thus: + Excellent build ...</td>\n",
       "    </tr>\n",
       "    <tr>\n",
       "      <th>17</th>\n",
       "      <td>Umbrella has lots of good features</td>\n",
       "      <td>4</td>\n",
       "      <td>YES</td>\n",
       "      <td>On</td>\n",
       "      <td>December 2, 2017</td>\n",
       "      <td>Lori C.</td>\n",
       "      <td>https://amazon.com//gp/profile/amzn1.account.A...</td>\n",
       "      <td>https://amazon.com//gp/customer-reviews/R2MWM3...</td>\n",
       "      <td>3rd party seller very involved, customer servi...</td>\n",
       "    </tr>\n",
       "    <tr>\n",
       "      <th>18</th>\n",
       "      <td>NOT \"super light\" or lightweight. Misleading p...</td>\n",
       "      <td>2</td>\n",
       "      <td>YES</td>\n",
       "      <td>On</td>\n",
       "      <td>July 20, 2017</td>\n",
       "      <td>JulieT</td>\n",
       "      <td>https://amazon.com//gp/profile/amzn1.account.A...</td>\n",
       "      <td>https://amazon.com//gp/customer-reviews/R32MI0...</td>\n",
       "      <td>I was looking for a lightweight umbrella to re...</td>\n",
       "    </tr>\n",
       "    <tr>\n",
       "      <th>19</th>\n",
       "      <td>Nope nope nope</td>\n",
       "      <td>1</td>\n",
       "      <td>YES</td>\n",
       "      <td>On</td>\n",
       "      <td>June 15, 2018</td>\n",
       "      <td>BillyP</td>\n",
       "      <td>https://amazon.com//gp/profile/amzn1.account.A...</td>\n",
       "      <td>https://amazon.com//gp/customer-reviews/R3DZFN...</td>\n",
       "      <td>I moved to San Francisco and needed an umbrell...</td>\n",
       "    </tr>\n",
       "    <tr>\n",
       "      <th>20</th>\n",
       "      <td>Not what I had hoped....</td>\n",
       "      <td>2</td>\n",
       "      <td>YES</td>\n",
       "      <td>0</td>\n",
       "      <td>May 2, 2018</td>\n",
       "      <td>Krysrox413</td>\n",
       "      <td>https://amazon.com//gp/profile/amzn1.account.A...</td>\n",
       "      <td>https://amazon.com//gp/customer-reviews/R1TAZB...</td>\n",
       "      <td>For all the money I paid for this umbrella, I'...</td>\n",
       "    </tr>\n",
       "    <tr>\n",
       "      <th>21</th>\n",
       "      <td>Nice while it lasted</td>\n",
       "      <td>3</td>\n",
       "      <td>YES</td>\n",
       "      <td>2</td>\n",
       "      <td>January 9, 2017</td>\n",
       "      <td>Ben Perkins</td>\n",
       "      <td>https://amazon.com//gp/profile/amzn1.account.A...</td>\n",
       "      <td>https://amazon.com//gp/customer-reviews/RFQF9R...</td>\n",
       "      <td>It's ok, the build quality seemed nice at firs...</td>\n",
       "    </tr>\n",
       "    <tr>\n",
       "      <th>22</th>\n",
       "      <td>Stands up to tough weather</td>\n",
       "      <td>5</td>\n",
       "      <td>YES</td>\n",
       "      <td>On</td>\n",
       "      <td>August 10, 2017</td>\n",
       "      <td>Alexandria</td>\n",
       "      <td>https://amazon.com//gp/profile/amzn1.account.A...</td>\n",
       "      <td>https://amazon.com//gp/customer-reviews/RS0OF5...</td>\n",
       "      <td>I live in Chicago suburbia so I have very litt...</td>\n",
       "    </tr>\n",
       "    <tr>\n",
       "      <th>23</th>\n",
       "      <td>Great size.</td>\n",
       "      <td>4</td>\n",
       "      <td>YES</td>\n",
       "      <td>0</td>\n",
       "      <td>June 10, 2018</td>\n",
       "      <td>Seaside Sarah</td>\n",
       "      <td>https://amazon.com//gp/profile/amzn1.account.A...</td>\n",
       "      <td>https://amazon.com//gp/customer-reviews/ROM02O...</td>\n",
       "      <td>For a compact umbrella, it's a \"big\" umbrella ...</td>\n",
       "    </tr>\n",
       "    <tr>\n",
       "      <th>24</th>\n",
       "      <td>Can withstand powerful wind</td>\n",
       "      <td>5</td>\n",
       "      <td>YES</td>\n",
       "      <td>0</td>\n",
       "      <td>May 6, 2018</td>\n",
       "      <td>Zavage</td>\n",
       "      <td>https://amazon.com//gp/profile/amzn1.account.A...</td>\n",
       "      <td>https://amazon.com//gp/customer-reviews/R3DKA9...</td>\n",
       "      <td>Being a bachelor, I never really felt the need...</td>\n",
       "    </tr>\n",
       "    <tr>\n",
       "      <th>25</th>\n",
       "      <td>Great product and customer service</td>\n",
       "      <td>5</td>\n",
       "      <td>YES</td>\n",
       "      <td>0</td>\n",
       "      <td>January 3, 2017</td>\n",
       "      <td>M.G.M.</td>\n",
       "      <td>https://amazon.com//gp/profile/amzn1.account.A...</td>\n",
       "      <td>https://amazon.com//gp/customer-reviews/R2N49P...</td>\n",
       "      <td>The umbrella feels sturdy. Haven't experienced...</td>\n",
       "    </tr>\n",
       "    <tr>\n",
       "      <th>26</th>\n",
       "      <td>Has potential - top piece unreliable</td>\n",
       "      <td>4</td>\n",
       "      <td>YES</td>\n",
       "      <td>On</td>\n",
       "      <td>June 19, 2017</td>\n",
       "      <td>Kevin Lee</td>\n",
       "      <td>https://amazon.com//gp/profile/amzn1.account.A...</td>\n",
       "      <td>https://amazon.com//gp/customer-reviews/R111SP...</td>\n",
       "      <td>**Update: I'm updating my review from 2 to 4 s...</td>\n",
       "    </tr>\n",
       "    <tr>\n",
       "      <th>27</th>\n",
       "      <td>well-made umbrella</td>\n",
       "      <td>5</td>\n",
       "      <td>YES</td>\n",
       "      <td>0</td>\n",
       "      <td>February 5, 2018</td>\n",
       "      <td>Mitch</td>\n",
       "      <td>https://amazon.com//gp/profile/amzn1.account.A...</td>\n",
       "      <td>https://amazon.com//gp/customer-reviews/R2TZXS...</td>\n",
       "      <td>I ordered this during a rainstorm and since it...</td>\n",
       "    </tr>\n",
       "    <tr>\n",
       "      <th>28</th>\n",
       "      <td>Good value!</td>\n",
       "      <td>5</td>\n",
       "      <td>YES</td>\n",
       "      <td>0</td>\n",
       "      <td>January 25, 2017</td>\n",
       "      <td>Clifford Carroll</td>\n",
       "      <td>https://amazon.com//gp/profile/amzn1.account.A...</td>\n",
       "      <td>https://amazon.com//gp/customer-reviews/RY5UFB...</td>\n",
       "      <td>This umbrella is of better apparent quality th...</td>\n",
       "    </tr>\n",
       "    <tr>\n",
       "      <th>29</th>\n",
       "      <td>Sturdy and Well-Constructed</td>\n",
       "      <td>4</td>\n",
       "      <td>YES</td>\n",
       "      <td>On</td>\n",
       "      <td>August 17, 2017</td>\n",
       "      <td>Justin Paul</td>\n",
       "      <td>https://amazon.com//gp/profile/amzn1.account.A...</td>\n",
       "      <td>https://amazon.com//gp/customer-reviews/R3VOD7...</td>\n",
       "      <td>Feels sturdy and a well constructed umbrella. ...</td>\n",
       "    </tr>\n",
       "    <tr>\n",
       "      <th>...</th>\n",
       "      <td>...</td>\n",
       "      <td>...</td>\n",
       "      <td>...</td>\n",
       "      <td>...</td>\n",
       "      <td>...</td>\n",
       "      <td>...</td>\n",
       "      <td>...</td>\n",
       "      <td>...</td>\n",
       "      <td>...</td>\n",
       "    </tr>\n",
       "    <tr>\n",
       "      <th>2370</th>\n",
       "      <td>Five Stars</td>\n",
       "      <td>5</td>\n",
       "      <td>NO</td>\n",
       "      <td>0</td>\n",
       "      <td>December 15, 2017</td>\n",
       "      <td>jensb</td>\n",
       "      <td>https://amazon.com//gp/profile/amzn1.account.A...</td>\n",
       "      <td>https://amazon.com//gp/customer-reviews/R1WOIR...</td>\n",
       "      <td>Great product and fast shipping, thank you</td>\n",
       "    </tr>\n",
       "    <tr>\n",
       "      <th>2371</th>\n",
       "      <td>I recommend it.</td>\n",
       "      <td>5</td>\n",
       "      <td>NO</td>\n",
       "      <td>0</td>\n",
       "      <td>June 18, 2016</td>\n",
       "      <td>Keith McCormick</td>\n",
       "      <td>https://amazon.com//gp/profile/amzn1.account.A...</td>\n",
       "      <td>https://amazon.com//gp/customer-reviews/R32LUL...</td>\n",
       "      <td>It's an expensive umbrella but i assure you th...</td>\n",
       "    </tr>\n",
       "    <tr>\n",
       "      <th>2372</th>\n",
       "      <td>Five Stars</td>\n",
       "      <td>5</td>\n",
       "      <td>NO</td>\n",
       "      <td>0</td>\n",
       "      <td>August 19, 2017</td>\n",
       "      <td>Amazon Customer</td>\n",
       "      <td>https://amazon.com//gp/profile/amzn1.account.A...</td>\n",
       "      <td>https://amazon.com//gp/customer-reviews/R2QU4V...</td>\n",
       "      <td>Great quality</td>\n",
       "    </tr>\n",
       "    <tr>\n",
       "      <th>2373</th>\n",
       "      <td>Five Stars</td>\n",
       "      <td>5</td>\n",
       "      <td>NO</td>\n",
       "      <td>0</td>\n",
       "      <td>June 18, 2017</td>\n",
       "      <td>Jenny Larkin</td>\n",
       "      <td>https://amazon.com//gp/profile/amzn1.account.A...</td>\n",
       "      <td>https://amazon.com//gp/customer-reviews/R39NX4...</td>\n",
       "      <td>Great product!</td>\n",
       "    </tr>\n",
       "    <tr>\n",
       "      <th>2374</th>\n",
       "      <td>One Star</td>\n",
       "      <td>1</td>\n",
       "      <td>NO</td>\n",
       "      <td>0</td>\n",
       "      <td>November 26, 2017</td>\n",
       "      <td>Jennifer Franzone</td>\n",
       "      <td>https://amazon.com//gp/profile/amzn1.account.A...</td>\n",
       "      <td>https://amazon.com//gp/customer-reviews/R2QKJ0...</td>\n",
       "      <td>It was very heavy! Not what I expected.</td>\n",
       "    </tr>\n",
       "    <tr>\n",
       "      <th>2375</th>\n",
       "      <td>Five Stars</td>\n",
       "      <td>5</td>\n",
       "      <td>NO</td>\n",
       "      <td>0</td>\n",
       "      <td>August 30, 2017</td>\n",
       "      <td>Amazon Customer</td>\n",
       "      <td>https://amazon.com//gp/profile/amzn1.account.A...</td>\n",
       "      <td>https://amazon.com//gp/customer-reviews/R1ZJUE...</td>\n",
       "      <td>Super product.... excellent value..buy 2!</td>\n",
       "    </tr>\n",
       "    <tr>\n",
       "      <th>2376</th>\n",
       "      <td>This is a very good umbrella and functions wel...</td>\n",
       "      <td>4</td>\n",
       "      <td>YES</td>\n",
       "      <td>On</td>\n",
       "      <td>August 29, 2017</td>\n",
       "      <td>Amazon Customer</td>\n",
       "      <td>https://amazon.com//gp/profile/amzn1.account.A...</td>\n",
       "      <td>https://amazon.com//gp/customer-reviews/R36FW6...</td>\n",
       "      <td>This is a very good umbrella and functions wel...</td>\n",
       "    </tr>\n",
       "    <tr>\n",
       "      <th>2377</th>\n",
       "      <td>Five Stars</td>\n",
       "      <td>5</td>\n",
       "      <td>NO</td>\n",
       "      <td>0</td>\n",
       "      <td>July 19, 2017</td>\n",
       "      <td>MattSanders</td>\n",
       "      <td>https://amazon.com//gp/profile/amzn1.account.A...</td>\n",
       "      <td>https://amazon.com//gp/customer-reviews/R204XQ...</td>\n",
       "      <td>Amazing, easy to use umbrella!</td>\n",
       "    </tr>\n",
       "    <tr>\n",
       "      <th>2378</th>\n",
       "      <td>Five Stars</td>\n",
       "      <td>5</td>\n",
       "      <td>NO</td>\n",
       "      <td>0</td>\n",
       "      <td>April 16, 2017</td>\n",
       "      <td>Nicholas Rodriguez</td>\n",
       "      <td>https://amazon.com//gp/profile/amzn1.account.A...</td>\n",
       "      <td>https://amazon.com//gp/customer-reviews/RVUQ68...</td>\n",
       "      <td>Sturdy and built to last. These umbrellas are ...</td>\n",
       "    </tr>\n",
       "    <tr>\n",
       "      <th>2379</th>\n",
       "      <td>Five Stars</td>\n",
       "      <td>5</td>\n",
       "      <td>NO</td>\n",
       "      <td>0</td>\n",
       "      <td>February 22, 2017</td>\n",
       "      <td>Amazon Customer</td>\n",
       "      <td>https://amazon.com//gp/profile/amzn1.account.A...</td>\n",
       "      <td>https://amazon.com//gp/customer-reviews/RQ2D6B...</td>\n",
       "      <td>Feels very sturdy and is a decent size - bigge...</td>\n",
       "    </tr>\n",
       "    <tr>\n",
       "      <th>2380</th>\n",
       "      <td>Five Stars</td>\n",
       "      <td>5</td>\n",
       "      <td>NO</td>\n",
       "      <td>0</td>\n",
       "      <td>May 5, 2017</td>\n",
       "      <td>Amazon Customer</td>\n",
       "      <td>https://amazon.com//gp/profile/amzn1.account.A...</td>\n",
       "      <td>https://amazon.com//gp/customer-reviews/R2TGWQ...</td>\n",
       "      <td>Nice quality umbrella. Arrived earlier than ex...</td>\n",
       "    </tr>\n",
       "    <tr>\n",
       "      <th>2381</th>\n",
       "      <td>Great product from a company that stands behin...</td>\n",
       "      <td>5</td>\n",
       "      <td>NO</td>\n",
       "      <td>0</td>\n",
       "      <td>July 9, 2016</td>\n",
       "      <td>CH</td>\n",
       "      <td>https://amazon.com//gp/profile/amzn1.account.A...</td>\n",
       "      <td>https://amazon.com//gp/customer-reviews/R31W5S...</td>\n",
       "      <td>Holds up well in the wind. Great product from ...</td>\n",
       "    </tr>\n",
       "    <tr>\n",
       "      <th>2382</th>\n",
       "      <td>5 stars</td>\n",
       "      <td>5</td>\n",
       "      <td>NO</td>\n",
       "      <td>0</td>\n",
       "      <td>September 30, 2016</td>\n",
       "      <td>berta</td>\n",
       "      <td>https://amazon.com//gp/profile/amzn1.account.A...</td>\n",
       "      <td>https://amazon.com//gp/customer-reviews/R1UFPQ...</td>\n",
       "      <td>5 stars for this umbrella. Well made with high...</td>\n",
       "    </tr>\n",
       "    <tr>\n",
       "      <th>2383</th>\n",
       "      <td>Five Stars</td>\n",
       "      <td>5</td>\n",
       "      <td>NO</td>\n",
       "      <td>0</td>\n",
       "      <td>March 18, 2017</td>\n",
       "      <td>Amazon Customer</td>\n",
       "      <td>https://amazon.com//gp/profile/amzn1.account.A...</td>\n",
       "      <td>https://amazon.com//gp/customer-reviews/RGAJTW...</td>\n",
       "      <td>So love this umbrella. Very easy to use. I wou...</td>\n",
       "    </tr>\n",
       "    <tr>\n",
       "      <th>2384</th>\n",
       "      <td>honest review</td>\n",
       "      <td>4</td>\n",
       "      <td>NO</td>\n",
       "      <td>0</td>\n",
       "      <td>July 11, 2016</td>\n",
       "      <td>Richard villa olea</td>\n",
       "      <td>https://amazon.com//gp/profile/amzn1.account.A...</td>\n",
       "      <td>https://amazon.com//gp/customer-reviews/R3EQ9X...</td>\n",
       "      <td>cool product.i recieved for a reduced discount.</td>\n",
       "    </tr>\n",
       "    <tr>\n",
       "      <th>2385</th>\n",
       "      <td>Five Stars</td>\n",
       "      <td>5</td>\n",
       "      <td>NO</td>\n",
       "      <td>0</td>\n",
       "      <td>August 21, 2017</td>\n",
       "      <td>Zhitun Yang</td>\n",
       "      <td>https://amazon.com//gp/profile/amzn1.account.A...</td>\n",
       "      <td>https://amazon.com//gp/customer-reviews/R51QEV...</td>\n",
       "      <td>Five Star.</td>\n",
       "    </tr>\n",
       "    <tr>\n",
       "      <th>2386</th>\n",
       "      <td>Five Stars</td>\n",
       "      <td>5</td>\n",
       "      <td>NO</td>\n",
       "      <td>0</td>\n",
       "      <td>June 9, 2016</td>\n",
       "      <td>Heather</td>\n",
       "      <td>https://amazon.com//gp/profile/amzn1.account.A...</td>\n",
       "      <td>https://amazon.com//gp/customer-reviews/RJ8AM2...</td>\n",
       "      <td>Fits in my bag and keeps my hair and clothes d...</td>\n",
       "    </tr>\n",
       "    <tr>\n",
       "      <th>2387</th>\n",
       "      <td>Five Stars</td>\n",
       "      <td>5</td>\n",
       "      <td>NO</td>\n",
       "      <td>0</td>\n",
       "      <td>May 3, 2017</td>\n",
       "      <td>Amazon Customer</td>\n",
       "      <td>https://amazon.com//gp/profile/amzn1.account.A...</td>\n",
       "      <td>https://amazon.com//gp/customer-reviews/R3SUPI...</td>\n",
       "      <td>A wonderful umbrella at an excellent price!</td>\n",
       "    </tr>\n",
       "    <tr>\n",
       "      <th>2388</th>\n",
       "      <td>Five Stars</td>\n",
       "      <td>5</td>\n",
       "      <td>NO</td>\n",
       "      <td>0</td>\n",
       "      <td>February 19, 2017</td>\n",
       "      <td>D A Sleeter</td>\n",
       "      <td>https://amazon.com//gp/profile/amzn1.account.A...</td>\n",
       "      <td>https://amazon.com//gp/customer-reviews/R1O2BJ...</td>\n",
       "      <td>solid construction.  haven't had rain yet</td>\n",
       "    </tr>\n",
       "    <tr>\n",
       "      <th>2389</th>\n",
       "      <td>Five Stars</td>\n",
       "      <td>5</td>\n",
       "      <td>NO</td>\n",
       "      <td>0</td>\n",
       "      <td>October 31, 2016</td>\n",
       "      <td>ZIX</td>\n",
       "      <td>https://amazon.com//gp/profile/amzn1.account.A...</td>\n",
       "      <td>https://amazon.com//gp/customer-reviews/RQO1A8...</td>\n",
       "      <td>It is a well designed product and worth your m...</td>\n",
       "    </tr>\n",
       "    <tr>\n",
       "      <th>2390</th>\n",
       "      <td>Five Stars</td>\n",
       "      <td>5</td>\n",
       "      <td>NO</td>\n",
       "      <td>0</td>\n",
       "      <td>June 11, 2017</td>\n",
       "      <td>hudsonview</td>\n",
       "      <td>https://amazon.com//gp/profile/amzn1.account.A...</td>\n",
       "      <td>https://amazon.com//gp/customer-reviews/R2V8WY...</td>\n",
       "      <td>Great umbrella!</td>\n",
       "    </tr>\n",
       "    <tr>\n",
       "      <th>2391</th>\n",
       "      <td>Five Stars</td>\n",
       "      <td>5</td>\n",
       "      <td>NO</td>\n",
       "      <td>0</td>\n",
       "      <td>August 25, 2016</td>\n",
       "      <td>kim formby</td>\n",
       "      <td>https://amazon.com//gp/profile/amzn1.account.A...</td>\n",
       "      <td>https://amazon.com//gp/customer-reviews/R3K1FY...</td>\n",
       "      <td>I received this Umbrella free and LOVE it. It ...</td>\n",
       "    </tr>\n",
       "    <tr>\n",
       "      <th>2392</th>\n",
       "      <td>awesome</td>\n",
       "      <td>5</td>\n",
       "      <td>NO</td>\n",
       "      <td>0</td>\n",
       "      <td>July 16, 2016</td>\n",
       "      <td>caro</td>\n",
       "      <td>https://amazon.com//gp/profile/amzn1.account.A...</td>\n",
       "      <td>https://amazon.com//gp/customer-reviews/R1UUCR...</td>\n",
       "      <td>The Dupont Teflon feels sturdy and keeps the r...</td>\n",
       "    </tr>\n",
       "    <tr>\n",
       "      <th>2393</th>\n",
       "      <td>Four Stars</td>\n",
       "      <td>4</td>\n",
       "      <td>NO</td>\n",
       "      <td>0</td>\n",
       "      <td>April 5, 2016</td>\n",
       "      <td>Patricia</td>\n",
       "      <td>https://amazon.com//gp/profile/amzn1.account.A...</td>\n",
       "      <td>https://amazon.com//gp/customer-reviews/R395TG...</td>\n",
       "      <td>love a good walk in the rain, its so relaxing ...</td>\n",
       "    </tr>\n",
       "    <tr>\n",
       "      <th>2394</th>\n",
       "      <td>very pleased.</td>\n",
       "      <td>5</td>\n",
       "      <td>NO</td>\n",
       "      <td>0</td>\n",
       "      <td>December 11, 2016</td>\n",
       "      <td>KB</td>\n",
       "      <td>https://amazon.com//gp/profile/amzn1.account.A...</td>\n",
       "      <td>https://amazon.com//gp/customer-reviews/R169R9...</td>\n",
       "      <td>These umbrellas are everything they say they a...</td>\n",
       "    </tr>\n",
       "    <tr>\n",
       "      <th>2395</th>\n",
       "      <td>As Advertised</td>\n",
       "      <td>5</td>\n",
       "      <td>NO</td>\n",
       "      <td>0</td>\n",
       "      <td>June 23, 2017</td>\n",
       "      <td>Corrie Kristina Luebke</td>\n",
       "      <td>https://amazon.com//gp/profile/amzn1.account.A...</td>\n",
       "      <td>https://amazon.com//gp/customer-reviews/RFGLZK...</td>\n",
       "      <td>Works well so far</td>\n",
       "    </tr>\n",
       "    <tr>\n",
       "      <th>2396</th>\n",
       "      <td>Five Stars</td>\n",
       "      <td>5</td>\n",
       "      <td>NO</td>\n",
       "      <td>0</td>\n",
       "      <td>April 8, 2017</td>\n",
       "      <td>Rene</td>\n",
       "      <td>https://amazon.com//gp/profile/amzn1.account.A...</td>\n",
       "      <td>https://amazon.com//gp/customer-reviews/RDCU3C...</td>\n",
       "      <td>Great umbrella!</td>\n",
       "    </tr>\n",
       "    <tr>\n",
       "      <th>2397</th>\n",
       "      <td>GREAT!</td>\n",
       "      <td>5</td>\n",
       "      <td>NO</td>\n",
       "      <td>0</td>\n",
       "      <td>February 11, 2017</td>\n",
       "      <td>Amazon Customer</td>\n",
       "      <td>https://amazon.com//gp/profile/amzn1.account.A...</td>\n",
       "      <td>https://amazon.com//gp/customer-reviews/R3PODB...</td>\n",
       "      <td>Great product! Would recommend to anyone!</td>\n",
       "    </tr>\n",
       "    <tr>\n",
       "      <th>2398</th>\n",
       "      <td>Five Stars</td>\n",
       "      <td>5</td>\n",
       "      <td>NO</td>\n",
       "      <td>0</td>\n",
       "      <td>May 18, 2017</td>\n",
       "      <td>Amazon Customer</td>\n",
       "      <td>https://amazon.com//gp/profile/amzn1.account.A...</td>\n",
       "      <td>https://amazon.com//gp/customer-reviews/R10KGM...</td>\n",
       "      <td>Easy and well made</td>\n",
       "    </tr>\n",
       "    <tr>\n",
       "      <th>2399</th>\n",
       "      <td>Four Stars</td>\n",
       "      <td>4</td>\n",
       "      <td>NO</td>\n",
       "      <td>0</td>\n",
       "      <td>February 4, 2017</td>\n",
       "      <td>Ethan</td>\n",
       "      <td>https://amazon.com//gp/profile/amzn1.account.A...</td>\n",
       "      <td>https://amazon.com//gp/customer-reviews/R11KOI...</td>\n",
       "      <td>The umbrella is easy to open and close.</td>\n",
       "    </tr>\n",
       "  </tbody>\n",
       "</table>\n",
       "<p>2400 rows × 9 columns</p>\n",
       "</div>"
      ],
      "text/plain": [
       "                                                   Name  Star Rating  \\\n",
       "0                             So far, so good (and dry)            5   \n",
       "1                     Not really a lifetime warranty...            2   \n",
       "2     \"THIS IS THE ONLY UMBRELLA YOU SHOULD EVER PUR...            5   \n",
       "3     Most good quality umbrellas can't stand up to ...            3   \n",
       "4     Decent umbrella compromised by poor-quality ri...            3   \n",
       "5              it is still like new. Great construction            4   \n",
       "6                                     For a tiny person            2   \n",
       "7                                 Decent, a bit pricey?            4   \n",
       "8           Not consistent with reviews or description.            2   \n",
       "9                   Seems well-built and well-designed.            5   \n",
       "10    Good Quality but Nearly Useless - Umbrella for...            2   \n",
       "11    ... have to say this one is by far my favorite...            5   \n",
       "12                                 classy cute umbrella            5   \n",
       "13                  Well made product, excellent vendor            5   \n",
       "14                                This one goes to 9...            5   \n",
       "15                                              support            4   \n",
       "16       Excellent umbrella- would definitely recommend            5   \n",
       "17                   Umbrella has lots of good features            4   \n",
       "18    NOT \"super light\" or lightweight. Misleading p...            2   \n",
       "19                                       Nope nope nope            1   \n",
       "20                             Not what I had hoped....            2   \n",
       "21                                 Nice while it lasted            3   \n",
       "22                           Stands up to tough weather            5   \n",
       "23                                          Great size.            4   \n",
       "24                          Can withstand powerful wind            5   \n",
       "25                   Great product and customer service            5   \n",
       "26                 Has potential - top piece unreliable            4   \n",
       "27                                   well-made umbrella            5   \n",
       "28                                          Good value!            5   \n",
       "29                          Sturdy and Well-Constructed            4   \n",
       "...                                                 ...          ...   \n",
       "2370                                         Five Stars            5   \n",
       "2371                                    I recommend it.            5   \n",
       "2372                                         Five Stars            5   \n",
       "2373                                         Five Stars            5   \n",
       "2374                                           One Star            1   \n",
       "2375                                         Five Stars            5   \n",
       "2376  This is a very good umbrella and functions wel...            4   \n",
       "2377                                         Five Stars            5   \n",
       "2378                                         Five Stars            5   \n",
       "2379                                         Five Stars            5   \n",
       "2380                                         Five Stars            5   \n",
       "2381  Great product from a company that stands behin...            5   \n",
       "2382                                            5 stars            5   \n",
       "2383                                         Five Stars            5   \n",
       "2384                                      honest review            4   \n",
       "2385                                         Five Stars            5   \n",
       "2386                                         Five Stars            5   \n",
       "2387                                         Five Stars            5   \n",
       "2388                                         Five Stars            5   \n",
       "2389                                         Five Stars            5   \n",
       "2390                                         Five Stars            5   \n",
       "2391                                         Five Stars            5   \n",
       "2392                                            awesome            5   \n",
       "2393                                         Four Stars            4   \n",
       "2394                                      very pleased.            5   \n",
       "2395                                      As Advertised            5   \n",
       "2396                                         Five Stars            5   \n",
       "2397                                             GREAT!            5   \n",
       "2398                                         Five Stars            5   \n",
       "2399                                         Four Stars            4   \n",
       "\n",
       "     Verifed Review Helpful Vote Count                 Date  \\\n",
       "0               YES                 25     November 9, 2016   \n",
       "1               YES                 On        July 10, 2018   \n",
       "2               YES                 On     January 22, 2018   \n",
       "3               YES                  2       April 25, 2018   \n",
       "4               YES                  3     October 15, 2017   \n",
       "5               YES                 On      August 14, 2016   \n",
       "6               YES                 On         May 25, 2018   \n",
       "7               YES                  2    September 2, 2017   \n",
       "8               YES                  3        June 20, 2017   \n",
       "9               YES                  0     January 26, 2018   \n",
       "10              YES                  0         July 3, 2018   \n",
       "11              YES                  0    February 27, 2018   \n",
       "12              YES                  0       March 25, 2018   \n",
       "13              YES                  0        April 7, 2018   \n",
       "14              YES                 On     January 29, 2017   \n",
       "15              YES                 On     January 23, 2018   \n",
       "16              YES                  0     October 18, 2017   \n",
       "17              YES                 On     December 2, 2017   \n",
       "18              YES                 On        July 20, 2017   \n",
       "19              YES                 On        June 15, 2018   \n",
       "20              YES                  0          May 2, 2018   \n",
       "21              YES                  2      January 9, 2017   \n",
       "22              YES                 On      August 10, 2017   \n",
       "23              YES                  0        June 10, 2018   \n",
       "24              YES                  0          May 6, 2018   \n",
       "25              YES                  0      January 3, 2017   \n",
       "26              YES                 On        June 19, 2017   \n",
       "27              YES                  0     February 5, 2018   \n",
       "28              YES                  0     January 25, 2017   \n",
       "29              YES                 On      August 17, 2017   \n",
       "...             ...                ...                  ...   \n",
       "2370             NO                  0    December 15, 2017   \n",
       "2371             NO                  0        June 18, 2016   \n",
       "2372             NO                  0      August 19, 2017   \n",
       "2373             NO                  0        June 18, 2017   \n",
       "2374             NO                  0    November 26, 2017   \n",
       "2375             NO                  0      August 30, 2017   \n",
       "2376            YES                 On      August 29, 2017   \n",
       "2377             NO                  0        July 19, 2017   \n",
       "2378             NO                  0       April 16, 2017   \n",
       "2379             NO                  0    February 22, 2017   \n",
       "2380             NO                  0          May 5, 2017   \n",
       "2381             NO                  0         July 9, 2016   \n",
       "2382             NO                  0   September 30, 2016   \n",
       "2383             NO                  0       March 18, 2017   \n",
       "2384             NO                  0        July 11, 2016   \n",
       "2385             NO                  0      August 21, 2017   \n",
       "2386             NO                  0         June 9, 2016   \n",
       "2387             NO                  0          May 3, 2017   \n",
       "2388             NO                  0    February 19, 2017   \n",
       "2389             NO                  0     October 31, 2016   \n",
       "2390             NO                  0        June 11, 2017   \n",
       "2391             NO                  0      August 25, 2016   \n",
       "2392             NO                  0        July 16, 2016   \n",
       "2393             NO                  0        April 5, 2016   \n",
       "2394             NO                  0    December 11, 2016   \n",
       "2395             NO                  0        June 23, 2017   \n",
       "2396             NO                  0        April 8, 2017   \n",
       "2397             NO                  0    February 11, 2017   \n",
       "2398             NO                  0         May 18, 2017   \n",
       "2399             NO                  0     February 4, 2017   \n",
       "\n",
       "                      Author  \\\n",
       "0             S. R. Southard   \n",
       "1                       Rico   \n",
       "2                 On The Fly   \n",
       "3                     Linann   \n",
       "4       Edward Ripley-Duggan   \n",
       "5                MC Oddslice   \n",
       "6                         AR   \n",
       "7                  Alex Wang   \n",
       "8                     Hannah   \n",
       "9                    Terende   \n",
       "10         Robert S. Blackie   \n",
       "11                        IJ   \n",
       "12         lawAbidingCitizen   \n",
       "13                  sherm624   \n",
       "14                Mergatroid   \n",
       "15           Robert J. Moser   \n",
       "16                     G Tan   \n",
       "17                   Lori C.   \n",
       "18                    JulieT   \n",
       "19                    BillyP   \n",
       "20                Krysrox413   \n",
       "21               Ben Perkins   \n",
       "22                Alexandria   \n",
       "23             Seaside Sarah   \n",
       "24                    Zavage   \n",
       "25                    M.G.M.   \n",
       "26                 Kevin Lee   \n",
       "27                     Mitch   \n",
       "28          Clifford Carroll   \n",
       "29               Justin Paul   \n",
       "...                      ...   \n",
       "2370                   jensb   \n",
       "2371         Keith McCormick   \n",
       "2372         Amazon Customer   \n",
       "2373            Jenny Larkin   \n",
       "2374       Jennifer Franzone   \n",
       "2375         Amazon Customer   \n",
       "2376         Amazon Customer   \n",
       "2377             MattSanders   \n",
       "2378      Nicholas Rodriguez   \n",
       "2379         Amazon Customer   \n",
       "2380         Amazon Customer   \n",
       "2381                      CH   \n",
       "2382                   berta   \n",
       "2383         Amazon Customer   \n",
       "2384      Richard villa olea   \n",
       "2385             Zhitun Yang   \n",
       "2386                 Heather   \n",
       "2387         Amazon Customer   \n",
       "2388             D A Sleeter   \n",
       "2389                     ZIX   \n",
       "2390              hudsonview   \n",
       "2391              kim formby   \n",
       "2392                    caro   \n",
       "2393                Patricia   \n",
       "2394                      KB   \n",
       "2395  Corrie Kristina Luebke   \n",
       "2396                    Rene   \n",
       "2397         Amazon Customer   \n",
       "2398         Amazon Customer   \n",
       "2399                   Ethan   \n",
       "\n",
       "                                            Author Link  \\\n",
       "0     https://amazon.com//gp/profile/amzn1.account.A...   \n",
       "1     https://amazon.com//gp/profile/amzn1.account.A...   \n",
       "2     https://amazon.com//gp/profile/amzn1.account.A...   \n",
       "3     https://amazon.com//gp/profile/amzn1.account.A...   \n",
       "4     https://amazon.com//gp/profile/amzn1.account.A...   \n",
       "5     https://amazon.com//gp/profile/amzn1.account.A...   \n",
       "6     https://amazon.com//gp/profile/amzn1.account.A...   \n",
       "7     https://amazon.com//gp/profile/amzn1.account.A...   \n",
       "8     https://amazon.com//gp/profile/amzn1.account.A...   \n",
       "9     https://amazon.com//gp/profile/amzn1.account.A...   \n",
       "10    https://amazon.com//gp/profile/amzn1.account.A...   \n",
       "11    https://amazon.com//gp/profile/amzn1.account.A...   \n",
       "12    https://amazon.com//gp/profile/amzn1.account.A...   \n",
       "13    https://amazon.com//gp/profile/amzn1.account.A...   \n",
       "14    https://amazon.com//gp/profile/amzn1.account.A...   \n",
       "15    https://amazon.com//gp/profile/amzn1.account.A...   \n",
       "16    https://amazon.com//gp/profile/amzn1.account.A...   \n",
       "17    https://amazon.com//gp/profile/amzn1.account.A...   \n",
       "18    https://amazon.com//gp/profile/amzn1.account.A...   \n",
       "19    https://amazon.com//gp/profile/amzn1.account.A...   \n",
       "20    https://amazon.com//gp/profile/amzn1.account.A...   \n",
       "21    https://amazon.com//gp/profile/amzn1.account.A...   \n",
       "22    https://amazon.com//gp/profile/amzn1.account.A...   \n",
       "23    https://amazon.com//gp/profile/amzn1.account.A...   \n",
       "24    https://amazon.com//gp/profile/amzn1.account.A...   \n",
       "25    https://amazon.com//gp/profile/amzn1.account.A...   \n",
       "26    https://amazon.com//gp/profile/amzn1.account.A...   \n",
       "27    https://amazon.com//gp/profile/amzn1.account.A...   \n",
       "28    https://amazon.com//gp/profile/amzn1.account.A...   \n",
       "29    https://amazon.com//gp/profile/amzn1.account.A...   \n",
       "...                                                 ...   \n",
       "2370  https://amazon.com//gp/profile/amzn1.account.A...   \n",
       "2371  https://amazon.com//gp/profile/amzn1.account.A...   \n",
       "2372  https://amazon.com//gp/profile/amzn1.account.A...   \n",
       "2373  https://amazon.com//gp/profile/amzn1.account.A...   \n",
       "2374  https://amazon.com//gp/profile/amzn1.account.A...   \n",
       "2375  https://amazon.com//gp/profile/amzn1.account.A...   \n",
       "2376  https://amazon.com//gp/profile/amzn1.account.A...   \n",
       "2377  https://amazon.com//gp/profile/amzn1.account.A...   \n",
       "2378  https://amazon.com//gp/profile/amzn1.account.A...   \n",
       "2379  https://amazon.com//gp/profile/amzn1.account.A...   \n",
       "2380  https://amazon.com//gp/profile/amzn1.account.A...   \n",
       "2381  https://amazon.com//gp/profile/amzn1.account.A...   \n",
       "2382  https://amazon.com//gp/profile/amzn1.account.A...   \n",
       "2383  https://amazon.com//gp/profile/amzn1.account.A...   \n",
       "2384  https://amazon.com//gp/profile/amzn1.account.A...   \n",
       "2385  https://amazon.com//gp/profile/amzn1.account.A...   \n",
       "2386  https://amazon.com//gp/profile/amzn1.account.A...   \n",
       "2387  https://amazon.com//gp/profile/amzn1.account.A...   \n",
       "2388  https://amazon.com//gp/profile/amzn1.account.A...   \n",
       "2389  https://amazon.com//gp/profile/amzn1.account.A...   \n",
       "2390  https://amazon.com//gp/profile/amzn1.account.A...   \n",
       "2391  https://amazon.com//gp/profile/amzn1.account.A...   \n",
       "2392  https://amazon.com//gp/profile/amzn1.account.A...   \n",
       "2393  https://amazon.com//gp/profile/amzn1.account.A...   \n",
       "2394  https://amazon.com//gp/profile/amzn1.account.A...   \n",
       "2395  https://amazon.com//gp/profile/amzn1.account.A...   \n",
       "2396  https://amazon.com//gp/profile/amzn1.account.A...   \n",
       "2397  https://amazon.com//gp/profile/amzn1.account.A...   \n",
       "2398  https://amazon.com//gp/profile/amzn1.account.A...   \n",
       "2399  https://amazon.com//gp/profile/amzn1.account.A...   \n",
       "\n",
       "                                            Review Link  \\\n",
       "0     https://amazon.com//gp/customer-reviews/R3V8GI...   \n",
       "1     https://amazon.com//gp/customer-reviews/R1ZA3B...   \n",
       "2     https://amazon.com//gp/customer-reviews/RG5V0S...   \n",
       "3     https://amazon.com//gp/customer-reviews/R2EYVB...   \n",
       "4     https://amazon.com//gp/customer-reviews/R1L9TU...   \n",
       "5     https://amazon.com//gp/customer-reviews/R2W29X...   \n",
       "6     https://amazon.com//gp/customer-reviews/R3FPDT...   \n",
       "7     https://amazon.com//gp/customer-reviews/R12Q4A...   \n",
       "8     https://amazon.com//gp/customer-reviews/R1UX1K...   \n",
       "9     https://amazon.com//gp/customer-reviews/R3C9IS...   \n",
       "10    https://amazon.com//gp/customer-reviews/R9Y91F...   \n",
       "11    https://amazon.com//gp/customer-reviews/R3TDZY...   \n",
       "12    https://amazon.com//gp/customer-reviews/R2PYPT...   \n",
       "13    https://amazon.com//gp/customer-reviews/R2VU5A...   \n",
       "14    https://amazon.com//gp/customer-reviews/R1C6RZ...   \n",
       "15    https://amazon.com//gp/customer-reviews/R2IXZT...   \n",
       "16    https://amazon.com//gp/customer-reviews/R38B28...   \n",
       "17    https://amazon.com//gp/customer-reviews/R2MWM3...   \n",
       "18    https://amazon.com//gp/customer-reviews/R32MI0...   \n",
       "19    https://amazon.com//gp/customer-reviews/R3DZFN...   \n",
       "20    https://amazon.com//gp/customer-reviews/R1TAZB...   \n",
       "21    https://amazon.com//gp/customer-reviews/RFQF9R...   \n",
       "22    https://amazon.com//gp/customer-reviews/RS0OF5...   \n",
       "23    https://amazon.com//gp/customer-reviews/ROM02O...   \n",
       "24    https://amazon.com//gp/customer-reviews/R3DKA9...   \n",
       "25    https://amazon.com//gp/customer-reviews/R2N49P...   \n",
       "26    https://amazon.com//gp/customer-reviews/R111SP...   \n",
       "27    https://amazon.com//gp/customer-reviews/R2TZXS...   \n",
       "28    https://amazon.com//gp/customer-reviews/RY5UFB...   \n",
       "29    https://amazon.com//gp/customer-reviews/R3VOD7...   \n",
       "...                                                 ...   \n",
       "2370  https://amazon.com//gp/customer-reviews/R1WOIR...   \n",
       "2371  https://amazon.com//gp/customer-reviews/R32LUL...   \n",
       "2372  https://amazon.com//gp/customer-reviews/R2QU4V...   \n",
       "2373  https://amazon.com//gp/customer-reviews/R39NX4...   \n",
       "2374  https://amazon.com//gp/customer-reviews/R2QKJ0...   \n",
       "2375  https://amazon.com//gp/customer-reviews/R1ZJUE...   \n",
       "2376  https://amazon.com//gp/customer-reviews/R36FW6...   \n",
       "2377  https://amazon.com//gp/customer-reviews/R204XQ...   \n",
       "2378  https://amazon.com//gp/customer-reviews/RVUQ68...   \n",
       "2379  https://amazon.com//gp/customer-reviews/RQ2D6B...   \n",
       "2380  https://amazon.com//gp/customer-reviews/R2TGWQ...   \n",
       "2381  https://amazon.com//gp/customer-reviews/R31W5S...   \n",
       "2382  https://amazon.com//gp/customer-reviews/R1UFPQ...   \n",
       "2383  https://amazon.com//gp/customer-reviews/RGAJTW...   \n",
       "2384  https://amazon.com//gp/customer-reviews/R3EQ9X...   \n",
       "2385  https://amazon.com//gp/customer-reviews/R51QEV...   \n",
       "2386  https://amazon.com//gp/customer-reviews/RJ8AM2...   \n",
       "2387  https://amazon.com//gp/customer-reviews/R3SUPI...   \n",
       "2388  https://amazon.com//gp/customer-reviews/R1O2BJ...   \n",
       "2389  https://amazon.com//gp/customer-reviews/RQO1A8...   \n",
       "2390  https://amazon.com//gp/customer-reviews/R2V8WY...   \n",
       "2391  https://amazon.com//gp/customer-reviews/R3K1FY...   \n",
       "2392  https://amazon.com//gp/customer-reviews/R1UUCR...   \n",
       "2393  https://amazon.com//gp/customer-reviews/R395TG...   \n",
       "2394  https://amazon.com//gp/customer-reviews/R169R9...   \n",
       "2395  https://amazon.com//gp/customer-reviews/RFGLZK...   \n",
       "2396  https://amazon.com//gp/customer-reviews/RDCU3C...   \n",
       "2397  https://amazon.com//gp/customer-reviews/R3PODB...   \n",
       "2398  https://amazon.com//gp/customer-reviews/R10KGM...   \n",
       "2399  https://amazon.com//gp/customer-reviews/R11KOI...   \n",
       "\n",
       "                                            Review Text  \n",
       "0     I had my first opportunity to use the umbrella...  \n",
       "1     I bought this umbrella a few months ago and un...  \n",
       "2     First of all: I have no financial interest in ...  \n",
       "3     I work in New Haven CT, and in the fall, and w...  \n",
       "4     The umbrella appears to be robust; I used it r...  \n",
       "5     Update: Too small! If there is wind, you will ...  \n",
       "6     I was excited to try out this umbrella based o...  \n",
       "7     This umbrella is pretty good. never had a umbr...  \n",
       "8     I must have received a bad item or something b...  \n",
       "9     I bought two of these for my and my spouse's u...  \n",
       "10    I cannot argue with the fact that this umbrell...  \n",
       "11    I've owned at least 50 umbrellas (some bought ...  \n",
       "12    I have benkii before(less1 year) but i lost it...  \n",
       "13    Change from 2 to 5 stars.  After a not-so-grea...  \n",
       "14    Nicely built. The metal shaft is black however...  \n",
       "15    I am a 67 year old banker, been banking for ov...  \n",
       "16    I like bullet points, thus: + Excellent build ...  \n",
       "17    3rd party seller very involved, customer servi...  \n",
       "18    I was looking for a lightweight umbrella to re...  \n",
       "19    I moved to San Francisco and needed an umbrell...  \n",
       "20    For all the money I paid for this umbrella, I'...  \n",
       "21    It's ok, the build quality seemed nice at firs...  \n",
       "22    I live in Chicago suburbia so I have very litt...  \n",
       "23    For a compact umbrella, it's a \"big\" umbrella ...  \n",
       "24    Being a bachelor, I never really felt the need...  \n",
       "25    The umbrella feels sturdy. Haven't experienced...  \n",
       "26    **Update: I'm updating my review from 2 to 4 s...  \n",
       "27    I ordered this during a rainstorm and since it...  \n",
       "28    This umbrella is of better apparent quality th...  \n",
       "29    Feels sturdy and a well constructed umbrella. ...  \n",
       "...                                                 ...  \n",
       "2370         Great product and fast shipping, thank you  \n",
       "2371  It's an expensive umbrella but i assure you th...  \n",
       "2372                                      Great quality  \n",
       "2373                                     Great product!  \n",
       "2374            It was very heavy! Not what I expected.  \n",
       "2375          Super product.... excellent value..buy 2!  \n",
       "2376  This is a very good umbrella and functions wel...  \n",
       "2377                     Amazing, easy to use umbrella!  \n",
       "2378  Sturdy and built to last. These umbrellas are ...  \n",
       "2379  Feels very sturdy and is a decent size - bigge...  \n",
       "2380  Nice quality umbrella. Arrived earlier than ex...  \n",
       "2381  Holds up well in the wind. Great product from ...  \n",
       "2382  5 stars for this umbrella. Well made with high...  \n",
       "2383  So love this umbrella. Very easy to use. I wou...  \n",
       "2384    cool product.i recieved for a reduced discount.  \n",
       "2385                                         Five Star.  \n",
       "2386  Fits in my bag and keeps my hair and clothes d...  \n",
       "2387        A wonderful umbrella at an excellent price!  \n",
       "2388          solid construction.  haven't had rain yet  \n",
       "2389  It is a well designed product and worth your m...  \n",
       "2390                                    Great umbrella!  \n",
       "2391  I received this Umbrella free and LOVE it. It ...  \n",
       "2392  The Dupont Teflon feels sturdy and keeps the r...  \n",
       "2393  love a good walk in the rain, its so relaxing ...  \n",
       "2394  These umbrellas are everything they say they a...  \n",
       "2395                                  Works well so far  \n",
       "2396                                    Great umbrella!  \n",
       "2397          Great product! Would recommend to anyone!  \n",
       "2398                                 Easy and well made  \n",
       "2399            The umbrella is easy to open and close.  \n",
       "\n",
       "[2400 rows x 9 columns]"
      ]
     },
     "execution_count": 5,
     "metadata": {},
     "output_type": "execute_result"
    }
   ],
   "source": [
    "dataset"
   ]
  },
  {
   "cell_type": "code",
   "execution_count": 17,
   "metadata": {},
   "outputs": [],
   "source": [
    "X= dataset.drop(['Star Rating'], axis=1)"
   ]
  },
  {
   "cell_type": "code",
   "execution_count": 19,
   "metadata": {},
   "outputs": [],
   "source": [
    "y=dataset['Star Rating']"
   ]
  },
  {
   "cell_type": "markdown",
   "metadata": {},
   "source": [
    "<h1>Feature Scaling</h1>"
   ]
  },
  {
   "cell_type": "code",
   "execution_count": 21,
   "metadata": {},
   "outputs": [],
   "source": [
    "from sklearn.preprocessing import MinMaxScaler"
   ]
  },
  {
   "cell_type": "code",
   "execution_count": 22,
   "metadata": {},
   "outputs": [],
   "source": [
    "sc=MinMaxScaler()"
   ]
  },
  {
   "cell_type": "code",
   "execution_count": null,
   "metadata": {},
   "outputs": [],
   "source": [
    "X=sc.fit_transform(X)"
   ]
  },
  {
   "cell_type": "markdown",
   "metadata": {},
   "source": [
    "SOMS need numerical data\n",
    "What if I made an emotion map?\n",
    "\n",
    "1.Get dataset of emotional labeled words\n",
    "2."
   ]
  },
  {
   "cell_type": "markdown",
   "metadata": {},
   "source": [
    "<h1>Emotion Analysis</h1>"
   ]
  },
  {
   "cell_type": "markdown",
   "metadata": {},
   "source": [
    "<h1>What can I do after getting emotions from an API?</h1>\n",
    "\n"
   ]
  },
  {
   "cell_type": "markdown",
   "metadata": {},
   "source": [
    "<h1>Options</h1>\n",
    "\n",
    "It may not be necessary to get emotions from an API. I could do the non-ML way of determining emotion, by tallying up the total emotions from every word in an input then dividing by len(words) to get average emotions. Take only the float values of those 7? emotions at the end and assign that to a new column in reviews df. "
   ]
  },
  {
   "cell_type": "markdown",
   "metadata": {},
   "source": [
    "depeche=pd.read_csv('DepecheMood_V1.0/DepecheMood_normfreq.txt', sep='\\t')\n",
    "depeche_word_isolation=depeche.copy()\n",
    "depeche_word_isolation['Lemma#PoS']=depeche_word_isolation['Lemma#PoS'].str.split('#').str.get(0)\n",
    "depeche_word_isolation.to_csv('depeche_word_isolation.csv', index=False)"
   ]
  },
  {
   "cell_type": "code",
   "execution_count": 114,
   "metadata": {},
   "outputs": [],
   "source": [
    "emotions=pd.read_csv('depeche_word_isolation.csv')"
   ]
  },
  {
   "cell_type": "markdown",
   "metadata": {},
   "source": [
    "So I can take the max value of each row and make that the associated emotion for each word, then adding each word to the emotion list to make the lists to train bayes classifier. But it seems like that would be missing out on the nuances in values. "
   ]
  },
  {
   "cell_type": "markdown",
   "metadata": {},
   "source": [
    "I can filter the depechemood dataset so that only words with higher than some threshold max value are left."
   ]
  },
  {
   "cell_type": "markdown",
   "metadata": {},
   "source": [
    "Need to get the column/series name for the row column."
   ]
  },
  {
   "cell_type": "markdown",
   "metadata": {},
   "source": [
    "Method one: idxmax. Method two: lambda apply."
   ]
  },
  {
   "cell_type": "code",
   "execution_count": null,
   "metadata": {},
   "outputs": [],
   "source": [
    "emotions.iloc[0:10].apply(lambda x: heapq.nlargest(2, x[1:10]), axis=1)"
   ]
  },
  {
   "cell_type": "markdown",
   "metadata": {},
   "source": [
    "<h1>Threshold of 0.3</h1>"
   ]
  },
  {
   "cell_type": "code",
   "execution_count": 95,
   "metadata": {},
   "outputs": [],
   "source": [
    "emotions['max_emotion']=emotions.max(axis=1)\n",
    "emotions=emotions[emotions['max_emotion']>0.3]"
   ]
  },
  {
   "cell_type": "markdown",
   "metadata": {},
   "source": [
    "<h1>Threshold of 0.5</h1>"
   ]
  },
  {
   "cell_type": "code",
   "execution_count": 115,
   "metadata": {},
   "outputs": [],
   "source": [
    "emotions['max_emotion']=emotions.max(axis=1)\n",
    "emotions=emotions[emotions['max_emotion']>0.5]"
   ]
  },
  {
   "cell_type": "code",
   "execution_count": 116,
   "metadata": {},
   "outputs": [],
   "source": [
    "emotions_no_words=emotions.drop(['Lemma#PoS'], axis=1)\n",
    "emotions['Dominant_emotion']=emotions_no_words.idxmax(axis=1)"
   ]
  },
  {
   "cell_type": "markdown",
   "metadata": {},
   "source": [
    "<h1>Remove numbers</h1>"
   ]
  },
  {
   "cell_type": "code",
   "execution_count": null,
   "metadata": {},
   "outputs": [],
   "source": [
    "import re\n",
    "\n",
    "remove=re.compile(r'[0-9][10-999]')\n",
    "for index, row in emotions.iloc[0:10].iterrows():\n",
    "    print(row)\n",
    "    if re.search(remove, row['Lemma#PoS']):\n",
    "        emotions=emotions.drop(index, axis=0)\n",
    "    "
   ]
  },
  {
   "cell_type": "markdown",
   "metadata": {},
   "source": [
    "The problem is all entries are strings so we can't extract the numbers"
   ]
  },
  {
   "cell_type": "code",
   "execution_count": 16,
   "metadata": {
    "scrolled": true
   },
   "outputs": [],
   "source": [
    "afraid=list(emotions['Lemma#PoS'][emotions['Dominant_emotion']=='AFRAID'])\n",
    "amused=list(emotions['Lemma#PoS'][emotions['Dominant_emotion']=='AMUSED'])\n",
    "angry=list(emotions['Lemma#PoS'][emotions['Dominant_emotion']=='ANGRY'])\n",
    "annoyed=list(emotions['Lemma#PoS'][emotions['Dominant_emotion']=='ANNOYED'])\n",
    "dont_care=list(emotions['Lemma#PoS'][emotions['Dominant_emotion']=='DONT_CARE'])\n",
    "happy=list(emotions['Lemma#PoS'][emotions['Dominant_emotion']=='HAPPY'])\n",
    "inspired=list(emotions['Lemma#PoS'][emotions['Dominant_emotion']=='INSPIRED'])\n",
    "sad=list(emotions['Lemma#PoS'][emotions['Dominant_emotion']=='SAD'])\n",
    "\n",
    "def word_feats(word):\n",
    "    return dict([(letter, True) for letter in word])\n",
    "\n",
    "afraid_features=[(word_feats(str(word)), 'afraid') for word in afraid]\n",
    "amused_features=[(word_feats(str(word)), 'amused') for word in amused]\n",
    "angry_features=[(word_feats(str(word)), 'angry') for word in angry]\n",
    "annoyed_features=[(word_feats(str(word)), 'annoyed') for word in annoyed]\n",
    "dont_care_features=[(word_feats(str(word)), 'dont_care') for word in dont_care]\n",
    "happy_features=[(word_feats(str(word)), 'happy') for word in happy]\n",
    "inspired_features=[(word_feats(str(word)), 'inspired') for word in inspired]\n",
    "sad_features=[(word_feats(str(word)), 'sad') for word in sad]\n",
    "\n",
    "train_set=afraid_features+amused_features+angry_features+annoyed_features+dont_care_features+happy_features+inspired_features+sad_features\n",
    "classifier=NaiveBayesClassifier.train(train_set)"
   ]
  },
  {
   "cell_type": "code",
   "execution_count": 57,
   "metadata": {},
   "outputs": [],
   "source": [
    "afraid=list(emotions['Lemma#PoS'][emotions['Dominant_emotion']=='AFRAID'])\n",
    "amused=list(emotions['Lemma#PoS'][emotions['Dominant_emotion']=='AMUSED'])\n",
    "angry=list(emotions['Lemma#PoS'][emotions['Dominant_emotion']=='ANGRY'])\n",
    "annoyed=list(emotions['Lemma#PoS'][emotions['Dominant_emotion']=='ANNOYED'])\n",
    "dont_care=list(emotions['Lemma#PoS'][emotions['Dominant_emotion']=='DONT_CARE'])\n",
    "happy=list(emotions['Lemma#PoS'][emotions['Dominant_emotion']=='HAPPY'])\n",
    "inspired=list(emotions['Lemma#PoS'][emotions['Dominant_emotion']=='INSPIRED'])\n",
    "sad=list(emotions['Lemma#PoS'][emotions['Dominant_emotion']=='SAD'])\n",
    "\n",
    "def word_feats(word):\n",
    "    output = []\n",
    "    for character in word:\n",
    "        number = float(ord(character) - 96)\n",
    "        output.append(number)\n",
    "    return output"
   ]
  },
  {
   "cell_type": "code",
   "execution_count": 59,
   "metadata": {},
   "outputs": [
    {
     "data": {
      "text/plain": [
       "[15.0,\n",
       " 14.0,\n",
       " 5.0,\n",
       " -1.0,\n",
       " 8.0,\n",
       " 21.0,\n",
       " 14.0,\n",
       " 4.0,\n",
       " 18.0,\n",
       " 5.0,\n",
       " 4.0,\n",
       " -1.0,\n",
       " 1.0,\n",
       " 14.0,\n",
       " 4.0,\n",
       " -1.0,\n",
       " 5.0,\n",
       " 12.0,\n",
       " 5.0,\n",
       " 22.0,\n",
       " 5.0,\n",
       " 14.0]"
      ]
     },
     "execution_count": 59,
     "metadata": {},
     "output_type": "execute_result"
    }
   ],
   "source": [
    "word_feats('one_hundred_and_eleven')"
   ]
  },
  {
   "cell_type": "code",
   "execution_count": 61,
   "metadata": {},
   "outputs": [
    {
     "name": "stdout",
     "output_type": "stream",
     "text": [
      "[-47. -48. -48.  20.   8.]\n"
     ]
    },
    {
     "ename": "ValueError",
     "evalue": "operands could not be broadcast together with shapes (1,0) (5,) (1,0) ",
     "output_type": "error",
     "traceback": [
      "\u001b[1;31m---------------------------------------------------------------------------\u001b[0m",
      "\u001b[1;31mValueError\u001b[0m                                Traceback (most recent call last)",
      "\u001b[1;32m<ipython-input-61-6eb43a55c9b9>\u001b[0m in \u001b[0;36m<module>\u001b[1;34m()\u001b[0m\n\u001b[0;32m      9\u001b[0m         \u001b[0mletters_arr\u001b[0m\u001b[1;33m=\u001b[0m\u001b[0mnp\u001b[0m\u001b[1;33m.\u001b[0m\u001b[0marray\u001b[0m\u001b[1;33m(\u001b[0m\u001b[0mletters\u001b[0m\u001b[1;33m)\u001b[0m\u001b[1;33m\u001b[0m\u001b[0m\n\u001b[0;32m     10\u001b[0m         \u001b[0mprint\u001b[0m\u001b[1;33m(\u001b[0m\u001b[0mletters_arr\u001b[0m\u001b[1;33m)\u001b[0m\u001b[1;33m\u001b[0m\u001b[0m\n\u001b[1;32m---> 11\u001b[1;33m         \u001b[0mX\u001b[0m\u001b[1;33m+=\u001b[0m\u001b[0mletters\u001b[0m\u001b[1;33m\u001b[0m\u001b[0m\n\u001b[0m\u001b[0;32m     12\u001b[0m         \u001b[0my_list\u001b[0m\u001b[1;33m.\u001b[0m\u001b[0mappend\u001b[0m\u001b[1;33m(\u001b[0m\u001b[0memotions_dict\u001b[0m\u001b[1;33m[\u001b[0m\u001b[0mindex\u001b[0m\u001b[1;33m]\u001b[0m\u001b[1;33m)\u001b[0m\u001b[1;33m\u001b[0m\u001b[0m\n\u001b[0;32m     13\u001b[0m \u001b[1;33m\u001b[0m\u001b[0m\n",
      "\u001b[1;31mValueError\u001b[0m: operands could not be broadcast together with shapes (1,0) (5,) (1,0) "
     ]
    }
   ],
   "source": [
    "X_list=[]\n",
    "y_list=[]\n",
    "X=np.matrix([])\n",
    "\n",
    "emotions_dict={0: 'afraid', 1: 'amused', 2: 'angry', 3: 'annoyed', 4: 'dont_care', 5: 'happy', 6: 'inspired', 7: 'sad'}\n",
    "for index, emotion in enumerate([afraid, amused, angry, annoyed, dont_care, happy, inspired, sad]):\n",
    "    for word in emotion:\n",
    "        letters=word_feats(str(word))\n",
    "        letters_arr=np.array(letters)\n",
    "        print(letters_arr)\n",
    "        X+=letters\n",
    "        y_list.append(emotions_dict[index])\n",
    "\n",
    "y=np.matrix(y_list)"
   ]
  },
  {
   "cell_type": "markdown",
   "metadata": {},
   "source": [
    "I'm gonna try my original, non-numpy idea now"
   ]
  },
  {
   "cell_type": "code",
   "execution_count": 48,
   "metadata": {},
   "outputs": [
    {
     "data": {
      "text/plain": [
       "dtype('<U1')"
      ]
     },
     "execution_count": 48,
     "metadata": {},
     "output_type": "execute_result"
    }
   ],
   "source": [
    "X=np.matrix(['a'])\n",
    "X.dtype"
   ]
  },
  {
   "cell_type": "code",
   "execution_count": 43,
   "metadata": {},
   "outputs": [
    {
     "data": {
      "text/plain": [
       "matrix([[list(['1', '0', '0', 't', 'h']), list(['1', '1']),\n",
       "         list(['1', '8', '5', '0', 's']), ...,\n",
       "         list(['z', 'i', 'o', 'n', 'i', 's', 't']),\n",
       "         list(['z', 'o', 'd', 'i', 'a', 'c', 'a', 'l']),\n",
       "         list(['z', 'o', 'o'])]], dtype=object)"
      ]
     },
     "execution_count": 43,
     "metadata": {},
     "output_type": "execute_result"
    }
   ],
   "source": []
  },
  {
   "cell_type": "code",
   "execution_count": 3,
   "metadata": {},
   "outputs": [],
   "source": [
    "from imblearn.over_sampling import SMOTE \n",
    "\n",
    "sm=SMOTE(random_state=1, ratio='minority', k_neighbors=5, m_neighbors=10, \n",
    "         out_step=0.5, kind='regular', n_jobs=-1)"
   ]
  },
  {
   "cell_type": "code",
   "execution_count": 44,
   "metadata": {},
   "outputs": [
    {
     "ename": "ValueError",
     "evalue": "setting an array element with a sequence.",
     "output_type": "error",
     "traceback": [
      "\u001b[1;31m---------------------------------------------------------------------------\u001b[0m",
      "\u001b[1;31mValueError\u001b[0m                                Traceback (most recent call last)",
      "\u001b[1;32m<ipython-input-44-1b4e2abe8f38>\u001b[0m in \u001b[0;36m<module>\u001b[1;34m()\u001b[0m\n\u001b[1;32m----> 1\u001b[1;33m \u001b[0mX_res\u001b[0m\u001b[1;33m,\u001b[0m \u001b[0my_res\u001b[0m\u001b[1;33m=\u001b[0m \u001b[0msm\u001b[0m\u001b[1;33m.\u001b[0m\u001b[0mfit_sample\u001b[0m\u001b[1;33m(\u001b[0m\u001b[0mX\u001b[0m\u001b[1;33m,\u001b[0m \u001b[0my\u001b[0m\u001b[1;33m)\u001b[0m\u001b[1;33m\u001b[0m\u001b[0m\n\u001b[0m",
      "\u001b[1;32m~\\AppData\\Local\\Programs\\Python\\Python36\\lib\\site-packages\\imblearn\\base.py\u001b[0m in \u001b[0;36mfit_sample\u001b[1;34m(self, X, y)\u001b[0m\n\u001b[0;32m     86\u001b[0m         \"\"\"\n\u001b[0;32m     87\u001b[0m \u001b[1;33m\u001b[0m\u001b[0m\n\u001b[1;32m---> 88\u001b[1;33m         \u001b[1;32mreturn\u001b[0m \u001b[0mself\u001b[0m\u001b[1;33m.\u001b[0m\u001b[0mfit\u001b[0m\u001b[1;33m(\u001b[0m\u001b[0mX\u001b[0m\u001b[1;33m,\u001b[0m \u001b[0my\u001b[0m\u001b[1;33m)\u001b[0m\u001b[1;33m.\u001b[0m\u001b[0msample\u001b[0m\u001b[1;33m(\u001b[0m\u001b[0mX\u001b[0m\u001b[1;33m,\u001b[0m \u001b[0my\u001b[0m\u001b[1;33m)\u001b[0m\u001b[1;33m\u001b[0m\u001b[0m\n\u001b[0m\u001b[0;32m     89\u001b[0m \u001b[1;33m\u001b[0m\u001b[0m\n\u001b[0;32m     90\u001b[0m     \u001b[1;33m@\u001b[0m\u001b[0mabstractmethod\u001b[0m\u001b[1;33m\u001b[0m\u001b[0m\n",
      "\u001b[1;32m~\\AppData\\Local\\Programs\\Python\\Python36\\lib\\site-packages\\imblearn\\base.py\u001b[0m in \u001b[0;36mfit\u001b[1;34m(self, X, y)\u001b[0m\n\u001b[0;32m    155\u001b[0m \u001b[1;33m\u001b[0m\u001b[0m\n\u001b[0;32m    156\u001b[0m         \"\"\"\n\u001b[1;32m--> 157\u001b[1;33m         \u001b[0mX\u001b[0m\u001b[1;33m,\u001b[0m \u001b[0my\u001b[0m \u001b[1;33m=\u001b[0m \u001b[0mcheck_X_y\u001b[0m\u001b[1;33m(\u001b[0m\u001b[0mX\u001b[0m\u001b[1;33m,\u001b[0m \u001b[0my\u001b[0m\u001b[1;33m,\u001b[0m \u001b[0maccept_sparse\u001b[0m\u001b[1;33m=\u001b[0m\u001b[1;33m[\u001b[0m\u001b[1;34m'csr'\u001b[0m\u001b[1;33m,\u001b[0m \u001b[1;34m'csc'\u001b[0m\u001b[1;33m]\u001b[0m\u001b[1;33m)\u001b[0m\u001b[1;33m\u001b[0m\u001b[0m\n\u001b[0m\u001b[0;32m    158\u001b[0m         \u001b[0my\u001b[0m \u001b[1;33m=\u001b[0m \u001b[0mcheck_target_type\u001b[0m\u001b[1;33m(\u001b[0m\u001b[0my\u001b[0m\u001b[1;33m)\u001b[0m\u001b[1;33m\u001b[0m\u001b[0m\n\u001b[0;32m    159\u001b[0m         \u001b[0mself\u001b[0m\u001b[1;33m.\u001b[0m\u001b[0mX_hash_\u001b[0m\u001b[1;33m,\u001b[0m \u001b[0mself\u001b[0m\u001b[1;33m.\u001b[0m\u001b[0my_hash_\u001b[0m \u001b[1;33m=\u001b[0m \u001b[0mhash_X_y\u001b[0m\u001b[1;33m(\u001b[0m\u001b[0mX\u001b[0m\u001b[1;33m,\u001b[0m \u001b[0my\u001b[0m\u001b[1;33m)\u001b[0m\u001b[1;33m\u001b[0m\u001b[0m\n",
      "\u001b[1;32m~\\AppData\\Local\\Programs\\Python\\Python36\\lib\\site-packages\\sklearn\\utils\\validation.py\u001b[0m in \u001b[0;36mcheck_X_y\u001b[1;34m(X, y, accept_sparse, dtype, order, copy, force_all_finite, ensure_2d, allow_nd, multi_output, ensure_min_samples, ensure_min_features, y_numeric, warn_on_dtype, estimator)\u001b[0m\n\u001b[0;32m    540\u001b[0m     X = check_array(X, accept_sparse, dtype, order, copy, force_all_finite,\n\u001b[0;32m    541\u001b[0m                     \u001b[0mensure_2d\u001b[0m\u001b[1;33m,\u001b[0m \u001b[0mallow_nd\u001b[0m\u001b[1;33m,\u001b[0m \u001b[0mensure_min_samples\u001b[0m\u001b[1;33m,\u001b[0m\u001b[1;33m\u001b[0m\u001b[0m\n\u001b[1;32m--> 542\u001b[1;33m                     ensure_min_features, warn_on_dtype, estimator)\n\u001b[0m\u001b[0;32m    543\u001b[0m     \u001b[1;32mif\u001b[0m \u001b[0mmulti_output\u001b[0m\u001b[1;33m:\u001b[0m\u001b[1;33m\u001b[0m\u001b[0m\n\u001b[0;32m    544\u001b[0m         y = check_array(y, 'csr', force_all_finite=True, ensure_2d=False,\n",
      "\u001b[1;32m~\\AppData\\Local\\Programs\\Python\\Python36\\lib\\site-packages\\sklearn\\utils\\validation.py\u001b[0m in \u001b[0;36mcheck_array\u001b[1;34m(array, accept_sparse, dtype, order, copy, force_all_finite, ensure_2d, allow_nd, ensure_min_samples, ensure_min_features, warn_on_dtype, estimator)\u001b[0m\n\u001b[0;32m    400\u001b[0m                                       force_all_finite)\n\u001b[0;32m    401\u001b[0m     \u001b[1;32melse\u001b[0m\u001b[1;33m:\u001b[0m\u001b[1;33m\u001b[0m\u001b[0m\n\u001b[1;32m--> 402\u001b[1;33m         \u001b[0marray\u001b[0m \u001b[1;33m=\u001b[0m \u001b[0mnp\u001b[0m\u001b[1;33m.\u001b[0m\u001b[0marray\u001b[0m\u001b[1;33m(\u001b[0m\u001b[0marray\u001b[0m\u001b[1;33m,\u001b[0m \u001b[0mdtype\u001b[0m\u001b[1;33m=\u001b[0m\u001b[0mdtype\u001b[0m\u001b[1;33m,\u001b[0m \u001b[0morder\u001b[0m\u001b[1;33m=\u001b[0m\u001b[0morder\u001b[0m\u001b[1;33m,\u001b[0m \u001b[0mcopy\u001b[0m\u001b[1;33m=\u001b[0m\u001b[0mcopy\u001b[0m\u001b[1;33m)\u001b[0m\u001b[1;33m\u001b[0m\u001b[0m\n\u001b[0m\u001b[0;32m    403\u001b[0m \u001b[1;33m\u001b[0m\u001b[0m\n\u001b[0;32m    404\u001b[0m         \u001b[1;32mif\u001b[0m \u001b[0mensure_2d\u001b[0m\u001b[1;33m:\u001b[0m\u001b[1;33m\u001b[0m\u001b[0m\n",
      "\u001b[1;31mValueError\u001b[0m: setting an array element with a sequence."
     ]
    }
   ],
   "source": [
    "X_res, y_res= sm.fit_sample(X, y)"
   ]
  },
  {
   "cell_type": "markdown",
   "metadata": {},
   "source": [
    "I need to create X and y, the data that have to be sampled and corresponding label for each sample in X. "
   ]
  },
  {
   "cell_type": "markdown",
   "metadata": {},
   "source": [
    "I'll do undersampling first because it's easier."
   ]
  },
  {
   "cell_type": "code",
   "execution_count": 64,
   "metadata": {},
   "outputs": [],
   "source": [
    "import random\n",
    "\n",
    "afraid=random.sample(afraid, 3200)\n",
    "amused=random.sample(amused, 3200)\n",
    "angry=random.sample(angry, 3200)\n",
    "dont_care=random.sample(dont_care, 3200)\n",
    "happy=random.sample(happy, 3200)\n",
    "inspired=random.sample(inspired, 3200)\n",
    "sad=random.sample(sad, 3200)"
   ]
  },
  {
   "cell_type": "code",
   "execution_count": 126,
   "metadata": {},
   "outputs": [],
   "source": [
    "import random\n",
    "\n",
    "afraid=list(emotions['Lemma#PoS'][emotions['Dominant_emotion']=='AFRAID'])\n",
    "amused=list(emotions['Lemma#PoS'][emotions['Dominant_emotion']=='AMUSED'])\n",
    "angry=list(emotions['Lemma#PoS'][emotions['Dominant_emotion']=='ANGRY'])\n",
    "annoyed=list(emotions['Lemma#PoS'][emotions['Dominant_emotion']=='ANNOYED'])\n",
    "dont_care=list(emotions['Lemma#PoS'][emotions['Dominant_emotion']=='DONT_CARE'])\n",
    "happy=list(emotions['Lemma#PoS'][emotions['Dominant_emotion']=='HAPPY'])\n",
    "inspired=list(emotions['Lemma#PoS'][emotions['Dominant_emotion']=='INSPIRED'])\n",
    "sad=list(emotions['Lemma#PoS'][emotions['Dominant_emotion']=='SAD'])\n",
    "\n",
    "emotions_list=[afraid, amused, angry, annoyed, dont_care, happy, inspired, sad]\n",
    "emotions_lengths=[]\n",
    "for emotion in emotions_list:\n",
    "    emotions_lengths.append(len(emotion))\n",
    "smallest_length=min(emotions_lengths)\n",
    "\n",
    "afraid=random.sample(afraid, smallest_length)\n",
    "amused=random.sample(amused, smallest_length)\n",
    "angry=random.sample(angry, smallest_length)\n",
    "dont_care=random.sample(dont_care, smallest_length)\n",
    "happy=random.sample(happy, smallest_length)\n",
    "inspired=random.sample(inspired, smallest_length)\n",
    "sad=random.sample(sad, smallest_length)\n",
    "\n",
    "def word_feats(word):\n",
    "    return dict([(letter, True) for letter in word])\n",
    "\n",
    "afraid_features=[(word_feats(str(word)), 'afraid') for word in afraid]\n",
    "amused_features=[(word_feats(str(word)), 'amused') for word in amused]\n",
    "angry_features=[(word_feats(str(word)), 'angry') for word in angry]\n",
    "annoyed_features=[(word_feats(str(word)), 'annoyed') for word in annoyed]\n",
    "dont_care_features=[(word_feats(str(word)), 'dont_care') for word in dont_care]\n",
    "happy_features=[(word_feats(str(word)), 'happy') for word in happy]\n",
    "inspired_features=[(word_feats(str(word)), 'inspired') for word in inspired]\n",
    "sad_features=[(word_feats(str(word)), 'sad') for word in sad]\n",
    "\n",
    "train_set=afraid_features+amused_features+angry_features+annoyed_features+dont_care_features+happy_features+inspired_features+sad_features"
   ]
  },
  {
   "cell_type": "code",
   "execution_count": null,
   "metadata": {},
   "outputs": [],
   "source": [
    "classifier=NaiveBayesClassifier.train(train_set)"
   ]
  },
  {
   "cell_type": "code",
   "execution_count": 140,
   "metadata": {},
   "outputs": [],
   "source": [
    "from nltk.classify import SklearnClassifier\n",
    "from sklearn.naive_bayes import BernoulliNB\n",
    "from sklearn.svm import SVC"
   ]
  },
  {
   "cell_type": "code",
   "execution_count": null,
   "metadata": {},
   "outputs": [],
   "source": [
    "classifier=SklearnClassifier(BernoulliNB()).train(train_set)"
   ]
  },
  {
   "cell_type": "code",
   "execution_count": 141,
   "metadata": {},
   "outputs": [],
   "source": [
    "classifier=SklearnClassifier(SVC(), sparse=False).train(train_set)"
   ]
  },
  {
   "cell_type": "code",
   "execution_count": 148,
   "metadata": {},
   "outputs": [
    {
     "data": {
      "text/plain": [
       "'dont_care'"
      ]
     },
     "execution_count": 148,
     "metadata": {},
     "output_type": "execute_result"
    }
   ],
   "source": [
    "classifier.classify(word_feats('test'))"
   ]
  },
  {
   "cell_type": "code",
   "execution_count": 147,
   "metadata": {},
   "outputs": [
    {
     "name": "stdout",
     "output_type": "stream",
     "text": [
      "Afraid: 0.16666666666666666\n",
      "Amused: 0.16666666666666666\n",
      "Angry: 0.0\n",
      "Annoyed: 0.0\n",
      "Don't care: 0.16666666666666666\n",
      "Happy: 0.0\n",
      "Inspired: 0.3333333333333333\n",
      "Sad: 0.16666666666666666\n"
     ]
    }
   ],
   "source": [
    "predict('This umbrella sucks! I hate it!')"
   ]
  },
  {
   "cell_type": "markdown",
   "metadata": {},
   "source": [
    "Now the code seems to be giving me different results based on what I put in but it doesn't seem very accurate.\n",
    "\n",
    "I need to probably train a neural network. "
   ]
  },
  {
   "cell_type": "code",
   "execution_count": 65,
   "metadata": {},
   "outputs": [
    {
     "data": {
      "text/plain": [
       "3200"
      ]
     },
     "execution_count": 65,
     "metadata": {},
     "output_type": "execute_result"
    }
   ],
   "source": [
    "len(afraid)"
   ]
  },
  {
   "cell_type": "code",
   "execution_count": 66,
   "metadata": {},
   "outputs": [
    {
     "data": {
      "text/plain": [
       "3200"
      ]
     },
     "execution_count": 66,
     "metadata": {},
     "output_type": "execute_result"
    }
   ],
   "source": [
    "len(amused)"
   ]
  },
  {
   "cell_type": "code",
   "execution_count": 67,
   "metadata": {},
   "outputs": [
    {
     "data": {
      "text/plain": [
       "3200"
      ]
     },
     "execution_count": 67,
     "metadata": {},
     "output_type": "execute_result"
    }
   ],
   "source": [
    "len(angry)"
   ]
  },
  {
   "cell_type": "code",
   "execution_count": 330,
   "metadata": {},
   "outputs": [
    {
     "data": {
      "text/plain": [
       "3200"
      ]
     },
     "execution_count": 330,
     "metadata": {},
     "output_type": "execute_result"
    }
   ],
   "source": [
    "len(annoyed)"
   ]
  },
  {
   "cell_type": "code",
   "execution_count": 331,
   "metadata": {},
   "outputs": [
    {
     "data": {
      "text/plain": [
       "4200"
      ]
     },
     "execution_count": 331,
     "metadata": {},
     "output_type": "execute_result"
    }
   ],
   "source": [
    "len(dont_care)"
   ]
  },
  {
   "cell_type": "code",
   "execution_count": 332,
   "metadata": {},
   "outputs": [
    {
     "data": {
      "text/plain": [
       "4201"
      ]
     },
     "execution_count": 332,
     "metadata": {},
     "output_type": "execute_result"
    }
   ],
   "source": [
    "len(happy)"
   ]
  },
  {
   "cell_type": "code",
   "execution_count": 333,
   "metadata": {},
   "outputs": [
    {
     "data": {
      "text/plain": [
       "7266"
      ]
     },
     "execution_count": 333,
     "metadata": {},
     "output_type": "execute_result"
    }
   ],
   "source": [
    "len(inspired)"
   ]
  },
  {
   "cell_type": "code",
   "execution_count": 334,
   "metadata": {},
   "outputs": [
    {
     "data": {
      "text/plain": [
       "4159"
      ]
     },
     "execution_count": 334,
     "metadata": {},
     "output_type": "execute_result"
    }
   ],
   "source": [
    "len(sad)"
   ]
  },
  {
   "cell_type": "markdown",
   "metadata": {},
   "source": [
    "<h1>The source of the error</h1>\n",
    "\n",
    "More of one label of training data skews the classifier that direction. How to solve? Give equal inputs of each emotion. (Oversampling in this case)\n",
    "\n",
    "First I'll try with my own method of oversampling... then SMOTE. "
   ]
  },
  {
   "cell_type": "code",
   "execution_count": 321,
   "metadata": {},
   "outputs": [
    {
     "data": {
      "text/plain": [
       "'amused'"
      ]
     },
     "execution_count": 321,
     "metadata": {},
     "output_type": "execute_result"
    }
   ],
   "source": [
    "classifier.classify(word_feats('sad'))"
   ]
  },
  {
   "cell_type": "code",
   "execution_count": 281,
   "metadata": {},
   "outputs": [
    {
     "data": {
      "text/plain": [
       "314959688"
      ]
     },
     "execution_count": 281,
     "metadata": {},
     "output_type": "execute_result"
    }
   ],
   "source": [
    "id(afraid_features)"
   ]
  },
  {
   "cell_type": "code",
   "execution_count": 282,
   "metadata": {},
   "outputs": [
    {
     "data": {
      "text/plain": [
       "328492744"
      ]
     },
     "execution_count": 282,
     "metadata": {},
     "output_type": "execute_result"
    }
   ],
   "source": [
    "id(inspired_features)"
   ]
  },
  {
   "cell_type": "markdown",
   "metadata": {},
   "source": [
    "<h1>'float' object is not iterable</h1>"
   ]
  },
  {
   "cell_type": "code",
   "execution_count": 202,
   "metadata": {},
   "outputs": [
    {
     "name": "stdout",
     "output_type": "stream",
     "text": [
      "Most Informative Features\n",
      "                       1 = True            happy : inspir =     12.9 : 1.0\n",
      "                       2 = True            happy : angry  =     10.3 : 1.0\n",
      "                       0 = True              sad : inspir =      8.8 : 1.0\n",
      "                       9 = True            happy : inspir =      8.2 : 1.0\n",
      "                       4 = True            happy : inspir =      7.1 : 1.0\n",
      "                       8 = True            happy : inspir =      5.6 : 1.0\n",
      "                       7 = True            happy : amused =      5.3 : 1.0\n",
      "                       5 = True            happy : sad    =      5.1 : 1.0\n",
      "                       . = True            angry : sad    =      4.0 : 1.0\n",
      "                       3 = True            happy : afraid =      3.1 : 1.0\n"
     ]
    }
   ],
   "source": [
    "classifier.show_most_informative_features()"
   ]
  },
  {
   "cell_type": "code",
   "execution_count": 197,
   "metadata": {},
   "outputs": [
    {
     "data": {
      "text/plain": [
       "'inspired'"
      ]
     },
     "execution_count": 197,
     "metadata": {},
     "output_type": "execute_result"
    }
   ],
   "source": [
    "classifier.classify(word_feats('adfjasld;fkj'))"
   ]
  },
  {
   "cell_type": "code",
   "execution_count": 198,
   "metadata": {},
   "outputs": [
    {
     "data": {
      "text/plain": [
       "6968"
      ]
     },
     "execution_count": 198,
     "metadata": {},
     "output_type": "execute_result"
    }
   ],
   "source": [
    "len(inspired)"
   ]
  },
  {
   "cell_type": "code",
   "execution_count": 199,
   "metadata": {},
   "outputs": [
    {
     "data": {
      "text/plain": [
       "4977"
      ]
     },
     "execution_count": 199,
     "metadata": {},
     "output_type": "execute_result"
    }
   ],
   "source": [
    "len(afraid)"
   ]
  },
  {
   "cell_type": "code",
   "execution_count": 200,
   "metadata": {},
   "outputs": [
    {
     "data": {
      "text/plain": [
       "6147"
      ]
     },
     "execution_count": 200,
     "metadata": {},
     "output_type": "execute_result"
    }
   ],
   "source": [
    "len(amused)"
   ]
  },
  {
   "cell_type": "code",
   "execution_count": 201,
   "metadata": {},
   "outputs": [
    {
     "data": {
      "text/plain": [
       "4276"
      ]
     },
     "execution_count": 201,
     "metadata": {},
     "output_type": "execute_result"
    }
   ],
   "source": [
    "len(dont_care)"
   ]
  },
  {
   "cell_type": "code",
   "execution_count": null,
   "metadata": {},
   "outputs": [],
   "source": []
  },
  {
   "cell_type": "markdown",
   "metadata": {},
   "source": [
    "DEFUNCT"
   ]
  },
  {
   "cell_type": "code",
   "execution_count": 112,
   "metadata": {},
   "outputs": [
    {
     "name": "stdout",
     "output_type": "stream",
     "text": [
      "[0.291063671, 0.167116461]\n",
      "[0.164304729, 0.13883705]\n",
      "[0.143611016, 0.138484847]\n",
      "[0.170863303, 0.170658442]\n",
      "[0.257339157, 0.15571317199999998]\n",
      "[0.586477761, 0.17265862199999998]\n",
      "[0.4134563120000001, 0.336853157]\n",
      "[0.320738407, 0.146574328]\n",
      "[1.0, 0.0]\n",
      "[0.209132296, 0.18620568]\n"
     ]
    }
   ],
   "source": [
    "import heapq\n",
    "for index, row in emotions.iloc[0:10].iterrows():\n",
    "    values=[]\n",
    "    for value in row.iloc[1:10]:\n",
    "        values.append(value)\n",
    "    largest_values=heapq.nlargest(2, values)\n",
    "    print(largest_values)"
   ]
  },
  {
   "cell_type": "code",
   "execution_count": 110,
   "metadata": {},
   "outputs": [],
   "source": [
    "def predict(sentence):\n",
    "    afraid=0\n",
    "    amused=0\n",
    "    angry=0\n",
    "    annoyed=0\n",
    "    dont_care=0\n",
    "    happy=0\n",
    "    inspired=0\n",
    "    sad=0\n",
    "    sentence = sentence.lower()\n",
    "    words = sentence.split(' ')\n",
    "    for word in words:\n",
    "        classResult = classifier.classify(word_feats(word))\n",
    "        if classResult == 'afraid':\n",
    "            afraid+=1\n",
    "        if classResult == 'amused':\n",
    "            amused+=1\n",
    "        if classResult == 'angry':\n",
    "            angry+=1\n",
    "        if classResult == 'annoyed':\n",
    "            annoyed+=1\n",
    "        if classResult == 'dont_care':\n",
    "            dont_care+=1\n",
    "        if classResult == 'happy':\n",
    "            happy+=1\n",
    "        if classResult == 'inspired':\n",
    "            inspired+=1\n",
    "        if classResult == 'sad':\n",
    "            sad+=1\n",
    "    print('Afraid: ' + str(float(afraid)/len(words)))\n",
    "    print('Amused: ' + str(float(amused)/len(words)))\n",
    "    print('Angry: '  + str(float(angry)/len(words)))\n",
    "    print('Annoyed: '+ str(float(annoyed)/len(words)))\n",
    "    print('Don\\'t care: ' + str(float(dont_care)/len(words)))\n",
    "    print('Happy: '  + str(float(happy)/len(words)))\n",
    "    print('Inspired: '+ str(float(inspired)/len(words)))\n",
    "    print('Sad: '+ str(float(sad)/len(words)))"
   ]
  },
  {
   "cell_type": "code",
   "execution_count": 87,
   "metadata": {},
   "outputs": [
    {
     "name": "stdout",
     "output_type": "stream",
     "text": [
      "Afraid: 0.0\n",
      "Amused: 0.0\n",
      "Angry: 0.0\n",
      "Annoyed: 0.5\n",
      "Don't care: 0.0\n",
      "Happy: 0.0\n",
      "Inspired: 0.5\n",
      "Sad: 0.0\n"
     ]
    }
   ],
   "source": [
    "new=predict('I am very angry')\n",
    "new"
   ]
  },
  {
   "cell_type": "markdown",
   "metadata": {},
   "source": [
    "Now I'm getting bogus results. I need to (maybe) redo taking the dominant emotions to only include those with high values."
   ]
  },
  {
   "cell_type": "code",
   "execution_count": 253,
   "metadata": {},
   "outputs": [
    {
     "name": "stdout",
     "output_type": "stream",
     "text": [
      "Positive: 0.0\n",
      "Negative: 1.0\n"
     ]
    }
   ],
   "source": [
    "import nltk.classify.util\n",
    "from nltk.classify import NaiveBayesClassifier\n",
    "from nltk.corpus import names\n",
    " \n",
    "def word_feats(word):\n",
    "    return dict([(letter, True) for letter in word])\n",
    " \n",
    "positive_vocab = [ 'awesome', 'outstanding', 'fantastic', 'terrific', 'good', 'nice', 'great', ':)' ]\n",
    "negative_vocab = [ 'bad', 'terrible','useless', 'hate', ':(' ]\n",
    "neutral_vocab = [ 'movie','the','sound','was','is','actors','did','know','words','not' ]\n",
    " \n",
    "positive_features = [(word_feats(pos), 'pos') for pos in positive_vocab]\n",
    "negative_features = [(word_feats(neg), 'neg') for neg in negative_vocab]\n",
    "neutral_features = [(word_feats(neu), 'neu') for neu in neutral_vocab]\n",
    " \n",
    "train_set = negative_features + positive_features + neutral_features\n",
    "classifier = NaiveBayesClassifier.train(train_set) \n",
    " \n",
    "# Predict\n",
    "neg = 0\n",
    "pos = 0\n",
    "sentence = \"bbbbb\"\n",
    "sentence = sentence.lower()\n",
    "words = sentence.split(' ')\n",
    "for word in words:\n",
    "    classResult = classifier.classify( word_feats(word))\n",
    "    if classResult == 'neg':\n",
    "        neg = neg + 1\n",
    "    if classResult == 'pos':\n",
    "        pos = pos + 1\n",
    " \n",
    "print('Positive: ' + str(float(pos)/len(words)))\n",
    "print('Negative: ' + str(float(neg)/len(words)))"
   ]
  },
  {
   "cell_type": "markdown",
   "metadata": {},
   "source": [
    "<h1>Ideas to fix bug</h1>\n",
    "\n",
    "1. Take only words with relatively high emotional components\n",
    "2. Get features differently (different method of tokenizing? words)\n",
    "3. "
   ]
  },
  {
   "cell_type": "markdown",
   "metadata": {},
   "source": []
  }
 ],
 "metadata": {
  "kernelspec": {
   "display_name": "Python 3",
   "language": "python",
   "name": "python3"
  }
 },
 "nbformat": 4,
 "nbformat_minor": 2
}
