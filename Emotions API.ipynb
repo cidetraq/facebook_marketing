{
 "cells": [
  {
   "cell_type": "code",
   "execution_count": 1,
   "metadata": {},
   "outputs": [],
   "source": [
    "import indicoio"
   ]
  },
  {
   "cell_type": "code",
   "execution_count": 2,
   "metadata": {},
   "outputs": [],
   "source": [
    "indicoio.config.api_key='397e82142cfdfe487c61dca634280b49'"
   ]
  },
  {
   "cell_type": "code",
   "execution_count": 2,
   "metadata": {},
   "outputs": [],
   "source": [
    "fake=['This umbrella sucks', 'I really like this! Great', 'Amazing, except for the handle', 'I wish this were larger', 'Works great on rainy days but it\\'s too bulky', 'Never fails. EVER', 'adfhasdfjlasdklfjalsd;fkalskfjas;dkfjasl;']"
   ]
  },
  {
   "cell_type": "code",
   "execution_count": null,
   "metadata": {},
   "outputs": [],
   "source": [
    "fake"
   ]
  },
  {
   "cell_type": "code",
   "execution_count": 3,
   "metadata": {},
   "outputs": [
    {
     "data": {
      "text/plain": [
       "[{'anger': 0.339011013507843,\n",
       "  'fear': 0.1346200853586197,\n",
       "  'joy': 0.04990703612565994,\n",
       "  'sadness': 0.4252183437347412,\n",
       "  'surprise': 0.05124350264668465},\n",
       " {'anger': 0.09750102460384369,\n",
       "  'fear': 0.14905612170696259,\n",
       "  'joy': 0.2882762551307678,\n",
       "  'sadness': 0.060263730585575104,\n",
       "  'surprise': 0.4049028754234314},\n",
       " {'anger': 0.09239204227924347,\n",
       "  'fear': 0.10143238306045532,\n",
       "  'joy': 0.586983323097229,\n",
       "  'sadness': 0.1409813016653061,\n",
       "  'surprise': 0.07821089029312134},\n",
       " {'anger': 0.25221025943756104,\n",
       "  'fear': 0.28153476119041443,\n",
       "  'joy': 0.02321162261068821,\n",
       "  'sadness': 0.4326407313346863,\n",
       "  'surprise': 0.010402664542198181},\n",
       " {'anger': 0.1548376977443695,\n",
       "  'fear': 0.08940946310758591,\n",
       "  'joy': 0.37303584814071655,\n",
       "  'sadness': 0.2820882797241211,\n",
       "  'surprise': 0.10062870383262634},\n",
       " {'anger': 0.3883330821990967,\n",
       "  'fear': 0.08446371555328369,\n",
       "  'joy': 0.04968280345201492,\n",
       "  'sadness': 0.2755776047706604,\n",
       "  'surprise': 0.2019428014755249},\n",
       " {'anger': 0.0952693372964859,\n",
       "  'fear': 0.18091045320034027,\n",
       "  'joy': 0.2505936026573181,\n",
       "  'sadness': 0.11403447389602661,\n",
       "  'surprise': 0.3591921627521515}]"
      ]
     },
     "execution_count": 3,
     "metadata": {},
     "output_type": "execute_result"
    }
   ],
   "source": [
    "indicoio.emotion(fake)"
   ]
  },
  {
   "cell_type": "code",
   "execution_count": 5,
   "metadata": {},
   "outputs": [],
   "source": [
    "no_pie=indicoio.emotion('I do not like pie')"
   ]
  },
  {
   "cell_type": "code",
   "execution_count": 7,
   "metadata": {},
   "outputs": [
    {
     "data": {
      "text/plain": [
       "0.044180143624544144"
      ]
     },
     "execution_count": 7,
     "metadata": {},
     "output_type": "execute_result"
    }
   ],
   "source": [
    "(no_pie['joy'])"
   ]
  },
  {
   "cell_type": "code",
   "execution_count": null,
   "metadata": {},
   "outputs": [],
   "source": [
    "from indicoio.custom import Collection\n",
    "\n",
    "collection = Collection(\"collection_name\")\n",
    "\n",
    "# Add Data\n",
    "collection.add_data([[\"text1\", \"label1\"], [\"text2\", \"label2\"], ...])\n",
    "\n",
    "# Training\n",
    "collection.train()\n",
    "\n",
    "# Telling Collection to block until ready\n",
    "collection.wait()\n",
    "\n",
    "# Done! Start analyzing text\n",
    "collection.predict(\"indico is so easy to use!\")"
   ]
  }
 ],
 "metadata": {
  "kernelspec": {
   "display_name": "Python 3",
   "language": "python",
   "name": "python3"
  },
  "language_info": {
   "codemirror_mode": {
    "name": "ipython",
    "version": 3
   },
   "file_extension": ".py",
   "mimetype": "text/x-python",
   "name": "python",
   "nbconvert_exporter": "python",
   "pygments_lexer": "ipython3",
   "version": "3.6.3"
  }
 },
 "nbformat": 4,
 "nbformat_minor": 2
}
