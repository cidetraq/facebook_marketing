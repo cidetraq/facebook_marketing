{
 "cells": [
  {
   "cell_type": "code",
   "execution_count": 2,
   "metadata": {},
   "outputs": [],
   "source": [
    "import requests"
   ]
  },
  {
   "cell_type": "code",
   "execution_count": 3,
   "metadata": {},
   "outputs": [],
   "source": [
    "r=requests.get('https://graph.facebook.com/oauth/access_token?client_id=263087381168955&client_secret=9102eb92e1ce0519941a3b86af52a0a7&grant_type=client_credentials')"
   ]
  },
  {
   "cell_type": "code",
   "execution_count": 16,
   "metadata": {},
   "outputs": [],
   "source": [
    "studentsharp_id=str(152095512230492)"
   ]
  },
  {
   "cell_type": "code",
   "execution_count": null,
   "metadata": {},
   "outputs": [],
   "source": [
    "?key=value&access_token=|"
   ]
  },
  {
   "cell_type": "code",
   "execution_count": null,
   "metadata": {},
   "outputs": [],
   "source": [
    "app secret 9102eb92e1ce0519941a3b86af52a0a7"
   ]
  },
  {
   "cell_type": "code",
   "execution_count": null,
   "metadata": {},
   "outputs": [],
   "source": [
    "app id 263087381168955"
   ]
  },
  {
   "cell_type": "code",
   "execution_count": 8,
   "metadata": {},
   "outputs": [
    {
     "data": {
      "text/plain": [
       "'{\"access_token\":\"263087381168955|AWCJXYR5XJOC8KsgAHrGmKQb9go\",\"token_type\":\"bearer\"}'"
      ]
     },
     "execution_count": 8,
     "metadata": {},
     "output_type": "execute_result"
    }
   ],
   "source": [
    "r.text"
   ]
  },
  {
   "cell_type": "code",
   "execution_count": 9,
   "metadata": {},
   "outputs": [],
   "source": [
    "access_token='263087381168955|AWCJXYR5XJOC8KsgAHrGmKQb9go'"
   ]
  },
  {
   "cell_type": "code",
   "execution_count": 10,
   "metadata": {},
   "outputs": [],
   "source": [
    "r2=requests.get(' https://graph.facebook.com/152095512230492/posts?access_token='+access_token)"
   ]
  },
  {
   "cell_type": "code",
   "execution_count": 12,
   "metadata": {},
   "outputs": [
    {
     "data": {
      "text/plain": [
       "'{\"error\":{\"message\":\"(#10) To use \\'Page Public Content Access\\', your use of this endpoint must be reviewed and approved by Facebook. To submit this \\'Page Public Content Access\\' feature for review please read our documentation on reviewable features: https:\\\\/\\\\/developers.facebook.com\\\\/docs\\\\/apps\\\\/review.\",\"type\":\"OAuthException\",\"code\":10,\"fbtrace_id\":\"CHMg3LNOEAp\"}}'"
      ]
     },
     "execution_count": 12,
     "metadata": {},
     "output_type": "execute_result"
    }
   ],
   "source": [
    "r2.text"
   ]
  },
  {
   "cell_type": "markdown",
   "metadata": {},
   "source": [
    "Need to get page access token (I think) in order to demonstrate the scraper working on Facebook data. Can scrape studentsharp's page."
   ]
  },
  {
   "cell_type": "markdown",
   "metadata": {},
   "source": [
    "To generate a page access token, an admin of the page must grant an extended permission called manage_pages. \n",
    "\n",
    "<i>All permissions, except the Default Public Profile fields, require Facebook Login and Client OAuth Login enabled for your app to allow Users or Pages to grant your app these permissions.</i>\n",
    "\n",
    "Once this permission has been granted, you can retrieve the page access token using a user access token with the required permissions and the following Graph API request:\n",
    "\n",
    "GET /me/accounts HTTP/1.1\n",
    "Host: graph.facebook.com\n",
    "This returns a list of pages that the person administers along with other information about the Page, such as the Page category, the permissions the admin has for that Page, and the page access token:\n",
    "\n",
    "{\n",
    "  \"data\": [\n",
    "    {\n",
    "      \"category\": \"Product/service\",\n",
    "      \"name\": \"Sample Page\",\n",
    "      \"access_token\": \"{access-token}\",\n",
    "      \"id\": \"1234567890\",\n",
    "      \"perms\": [\n",
    "        \"ADMINISTER\",\n",
    "        \"EDIT_PROFILE\",\n",
    "        \"CREATE_CONTENT\",\n",
    "        \"MODERATE_CONTENT\",\n",
    "        \"CREATE_ADS\",\n",
    "        \"BASIC_ADMIN\"\n",
    "      ]\n",
    "    }, \n",
    "}\n",
    "With a page access token you can make API calls on behalf of a Page. For example, you could post a status update to a Page (rather than on the user's timeline) or read Page Insights data."
   ]
  },
  {
   "cell_type": "markdown",
   "metadata": {},
   "source": [
    "(Outdated) https://hackernoon.com/graphapi-get-query-fetch-public-facebook-page-feed-3-step-tutorial-example-access-token-auth-post-d7403c717fbf\n",
    "    "
   ]
  }
 ],
 "metadata": {
  "kernelspec": {
   "display_name": "Python 3",
   "language": "python",
   "name": "python3"
  },
  "language_info": {
   "codemirror_mode": {
    "name": "ipython",
    "version": 3
   },
   "file_extension": ".py",
   "mimetype": "text/x-python",
   "name": "python",
   "nbconvert_exporter": "python",
   "pygments_lexer": "ipython3",
   "version": "3.6.3"
  }
 },
 "nbformat": 4,
 "nbformat_minor": 2
}
